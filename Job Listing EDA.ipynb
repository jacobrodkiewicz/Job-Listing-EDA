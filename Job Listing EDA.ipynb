{
 "cells": [
  {
   "cell_type": "code",
   "execution_count": 1,
   "metadata": {},
   "outputs": [],
   "source": [
    "import pandas as pd\n",
    "import numpy as np\n",
    "import seaborn as sns\n",
    "import matplotlib.pyplot as plt\n",
    "#import geopandas as gpd"
   ]
  },
  {
   "cell_type": "code",
   "execution_count": 3,
   "metadata": {},
   "outputs": [],
   "source": [
    "df = pd.read_csv(\"DataAnalyst.csv\")"
   ]
  },
  {
   "cell_type": "markdown",
   "metadata": {},
   "source": [
    "# Data Preparation and Cleaning"
   ]
  },
  {
   "cell_type": "code",
   "execution_count": 4,
   "metadata": {},
   "outputs": [
    {
     "data": {
      "text/html": [
       "<div>\n",
       "<style scoped>\n",
       "    .dataframe tbody tr th:only-of-type {\n",
       "        vertical-align: middle;\n",
       "    }\n",
       "\n",
       "    .dataframe tbody tr th {\n",
       "        vertical-align: top;\n",
       "    }\n",
       "\n",
       "    .dataframe thead th {\n",
       "        text-align: right;\n",
       "    }\n",
       "</style>\n",
       "<table border=\"1\" class=\"dataframe\">\n",
       "  <thead>\n",
       "    <tr style=\"text-align: right;\">\n",
       "      <th></th>\n",
       "      <th>Unnamed: 0</th>\n",
       "      <th>JobTitle</th>\n",
       "      <th>SalaryEstimate</th>\n",
       "      <th>JobDescription</th>\n",
       "      <th>Rating</th>\n",
       "      <th>CompanyName</th>\n",
       "      <th>Location</th>\n",
       "      <th>Headquarters</th>\n",
       "      <th>Size</th>\n",
       "      <th>Founded</th>\n",
       "      <th>TypeOfOwnership</th>\n",
       "      <th>Industry</th>\n",
       "      <th>Sector</th>\n",
       "      <th>Revenue</th>\n",
       "      <th>Competitors</th>\n",
       "      <th>EasyApply</th>\n",
       "    </tr>\n",
       "  </thead>\n",
       "  <tbody>\n",
       "    <tr>\n",
       "      <th>0</th>\n",
       "      <td>0</td>\n",
       "      <td>Data Analyst, Center on Immigration and Justic...</td>\n",
       "      <td>$37K-$66K (Glassdoor est.)</td>\n",
       "      <td>Are you eager to roll up your sleeves and harn...</td>\n",
       "      <td>3.2</td>\n",
       "      <td>Vera Institute of Justice\\n3.2</td>\n",
       "      <td>New York, NY</td>\n",
       "      <td>New York, NY</td>\n",
       "      <td>201 to 500 employees</td>\n",
       "      <td>1961</td>\n",
       "      <td>Nonprofit Organization</td>\n",
       "      <td>Social Assistance</td>\n",
       "      <td>Non-Profit</td>\n",
       "      <td>$100 to $500 million (USD)</td>\n",
       "      <td>-1</td>\n",
       "      <td>TRUE</td>\n",
       "    </tr>\n",
       "    <tr>\n",
       "      <th>1</th>\n",
       "      <td>1</td>\n",
       "      <td>Quality Data Analyst</td>\n",
       "      <td>$37K-$66K (Glassdoor est.)</td>\n",
       "      <td>Overview\\n\\nProvides analytical and technical ...</td>\n",
       "      <td>3.8</td>\n",
       "      <td>Visiting Nurse Service of New York\\n3.8</td>\n",
       "      <td>New York, NY</td>\n",
       "      <td>New York, NY</td>\n",
       "      <td>10000+ employees</td>\n",
       "      <td>1893</td>\n",
       "      <td>Nonprofit Organization</td>\n",
       "      <td>Health Care Services &amp; Hospitals</td>\n",
       "      <td>Health Care</td>\n",
       "      <td>$2 to $5 billion (USD)</td>\n",
       "      <td>-1</td>\n",
       "      <td>-1</td>\n",
       "    </tr>\n",
       "    <tr>\n",
       "      <th>2</th>\n",
       "      <td>2</td>\n",
       "      <td>Senior Data Analyst, Insights &amp; Analytics Team...</td>\n",
       "      <td>$37K-$66K (Glassdoor est.)</td>\n",
       "      <td>We’re looking for a Senior Data Analyst who ha...</td>\n",
       "      <td>3.4</td>\n",
       "      <td>Squarespace\\n3.4</td>\n",
       "      <td>New York, NY</td>\n",
       "      <td>New York, NY</td>\n",
       "      <td>1001 to 5000 employees</td>\n",
       "      <td>2003</td>\n",
       "      <td>Company - Private</td>\n",
       "      <td>Internet</td>\n",
       "      <td>Information Technology</td>\n",
       "      <td>Unknown / Non-Applicable</td>\n",
       "      <td>GoDaddy</td>\n",
       "      <td>-1</td>\n",
       "    </tr>\n",
       "    <tr>\n",
       "      <th>3</th>\n",
       "      <td>3</td>\n",
       "      <td>Data Analyst</td>\n",
       "      <td>$37K-$66K (Glassdoor est.)</td>\n",
       "      <td>Requisition NumberRR-0001939\\nRemote:Yes\\nWe c...</td>\n",
       "      <td>4.1</td>\n",
       "      <td>Celerity\\n4.1</td>\n",
       "      <td>New York, NY</td>\n",
       "      <td>McLean, VA</td>\n",
       "      <td>201 to 500 employees</td>\n",
       "      <td>2002</td>\n",
       "      <td>Subsidiary or Business Segment</td>\n",
       "      <td>IT Services</td>\n",
       "      <td>Information Technology</td>\n",
       "      <td>$50 to $100 million (USD)</td>\n",
       "      <td>-1</td>\n",
       "      <td>-1</td>\n",
       "    </tr>\n",
       "    <tr>\n",
       "      <th>4</th>\n",
       "      <td>4</td>\n",
       "      <td>Reporting Data Analyst</td>\n",
       "      <td>$37K-$66K (Glassdoor est.)</td>\n",
       "      <td>ABOUT FANDUEL GROUP\\n\\nFanDuel Group is a worl...</td>\n",
       "      <td>3.9</td>\n",
       "      <td>FanDuel\\n3.9</td>\n",
       "      <td>New York, NY</td>\n",
       "      <td>New York, NY</td>\n",
       "      <td>501 to 1000 employees</td>\n",
       "      <td>2009</td>\n",
       "      <td>Company - Private</td>\n",
       "      <td>Sports &amp; Recreation</td>\n",
       "      <td>Arts, Entertainment &amp; Recreation</td>\n",
       "      <td>$100 to $500 million (USD)</td>\n",
       "      <td>DraftKings</td>\n",
       "      <td>TRUE</td>\n",
       "    </tr>\n",
       "  </tbody>\n",
       "</table>\n",
       "</div>"
      ],
      "text/plain": [
       "   Unnamed: 0                                           JobTitle  \\\n",
       "0           0  Data Analyst, Center on Immigration and Justic...   \n",
       "1           1                               Quality Data Analyst   \n",
       "2           2  Senior Data Analyst, Insights & Analytics Team...   \n",
       "3           3                                       Data Analyst   \n",
       "4           4                             Reporting Data Analyst   \n",
       "\n",
       "               SalaryEstimate  \\\n",
       "0  $37K-$66K (Glassdoor est.)   \n",
       "1  $37K-$66K (Glassdoor est.)   \n",
       "2  $37K-$66K (Glassdoor est.)   \n",
       "3  $37K-$66K (Glassdoor est.)   \n",
       "4  $37K-$66K (Glassdoor est.)   \n",
       "\n",
       "                                      JobDescription  Rating  \\\n",
       "0  Are you eager to roll up your sleeves and harn...     3.2   \n",
       "1  Overview\\n\\nProvides analytical and technical ...     3.8   \n",
       "2  We’re looking for a Senior Data Analyst who ha...     3.4   \n",
       "3  Requisition NumberRR-0001939\\nRemote:Yes\\nWe c...     4.1   \n",
       "4  ABOUT FANDUEL GROUP\\n\\nFanDuel Group is a worl...     3.9   \n",
       "\n",
       "                               CompanyName      Location  Headquarters  \\\n",
       "0           Vera Institute of Justice\\n3.2  New York, NY  New York, NY   \n",
       "1  Visiting Nurse Service of New York\\n3.8  New York, NY  New York, NY   \n",
       "2                         Squarespace\\n3.4  New York, NY  New York, NY   \n",
       "3                            Celerity\\n4.1  New York, NY    McLean, VA   \n",
       "4                             FanDuel\\n3.9  New York, NY  New York, NY   \n",
       "\n",
       "                     Size  Founded                 TypeOfOwnership  \\\n",
       "0    201 to 500 employees     1961          Nonprofit Organization   \n",
       "1        10000+ employees     1893          Nonprofit Organization   \n",
       "2  1001 to 5000 employees     2003               Company - Private   \n",
       "3    201 to 500 employees     2002  Subsidiary or Business Segment   \n",
       "4   501 to 1000 employees     2009               Company - Private   \n",
       "\n",
       "                           Industry                            Sector  \\\n",
       "0                 Social Assistance                        Non-Profit   \n",
       "1  Health Care Services & Hospitals                       Health Care   \n",
       "2                          Internet            Information Technology   \n",
       "3                       IT Services            Information Technology   \n",
       "4               Sports & Recreation  Arts, Entertainment & Recreation   \n",
       "\n",
       "                      Revenue Competitors EasyApply  \n",
       "0  $100 to $500 million (USD)          -1      TRUE  \n",
       "1      $2 to $5 billion (USD)          -1        -1  \n",
       "2    Unknown / Non-Applicable     GoDaddy        -1  \n",
       "3   $50 to $100 million (USD)          -1        -1  \n",
       "4  $100 to $500 million (USD)  DraftKings      TRUE  "
      ]
     },
     "execution_count": 4,
     "metadata": {},
     "output_type": "execute_result"
    }
   ],
   "source": [
    "df.head()"
   ]
  },
  {
   "cell_type": "code",
   "execution_count": 5,
   "metadata": {},
   "outputs": [
    {
     "data": {
      "text/plain": [
       "(2253, 16)"
      ]
     },
     "execution_count": 5,
     "metadata": {},
     "output_type": "execute_result"
    }
   ],
   "source": [
    "df.shape"
   ]
  },
  {
   "cell_type": "markdown",
   "metadata": {},
   "source": [
    "## Missing Values"
   ]
  },
  {
   "cell_type": "code",
   "execution_count": 8,
   "metadata": {},
   "outputs": [
    {
     "data": {
      "text/plain": [
       "Unnamed: 0         0\n",
       "JobTitle           0\n",
       "SalaryEstimate     0\n",
       "JobDescription     0\n",
       "Rating             0\n",
       "CompanyName        1\n",
       "Location           0\n",
       "Headquarters       0\n",
       "Size               0\n",
       "Founded            0\n",
       "TypeOfOwnership    0\n",
       "Industry           0\n",
       "Sector             0\n",
       "Revenue            0\n",
       "Competitors        0\n",
       "EasyApply          0\n",
       "dtype: int64"
      ]
     },
     "execution_count": 8,
     "metadata": {},
     "output_type": "execute_result"
    }
   ],
   "source": [
    "df.isnull().sum()"
   ]
  },
  {
   "cell_type": "markdown",
   "metadata": {},
   "source": [
    "### Null Values are represented as -1 or '-1'"
   ]
  },
  {
   "cell_type": "code",
   "execution_count": 9,
   "metadata": {},
   "outputs": [
    {
     "name": "stdout",
     "output_type": "stream",
     "text": [
      "Feature: JobTitle\n",
      "Null Count: 0\n",
      "Percentage of Null Values: 0.0\n",
      "\n",
      "\n",
      "Feature: SalaryEstimate\n",
      "Null Count: 1\n",
      "Percentage of Null Values: 0.0004438526409232135\n",
      "\n",
      "\n",
      "Feature: JobDescription\n",
      "Null Count: 0\n",
      "Percentage of Null Values: 0.0\n",
      "\n",
      "\n",
      "Feature: Rating\n",
      "Null Count: 272\n",
      "Percentage of Null Values: 0.12072791833111407\n",
      "\n",
      "\n",
      "Feature: CompanyName\n",
      "Null Count: 0\n",
      "Percentage of Null Values: 0.0\n",
      "\n",
      "\n",
      "Feature: Location\n",
      "Null Count: 0\n",
      "Percentage of Null Values: 0.0\n",
      "\n",
      "\n",
      "Feature: Headquarters\n",
      "Null Count: 172\n",
      "Percentage of Null Values: 0.07634265423879272\n",
      "\n",
      "\n",
      "Feature: Size\n",
      "Null Count: 163\n",
      "Percentage of Null Values: 0.0723479804704838\n",
      "\n",
      "\n",
      "Feature: Founded\n",
      "Null Count: 660\n",
      "Percentage of Null Values: 0.2929427430093209\n",
      "\n",
      "\n",
      "Feature: TypeOfOwnership\n",
      "Null Count: 163\n",
      "Percentage of Null Values: 0.0723479804704838\n",
      "\n",
      "\n",
      "Feature: Industry\n",
      "Null Count: 353\n",
      "Percentage of Null Values: 0.15667998224589436\n",
      "\n",
      "\n",
      "Feature: Sector\n",
      "Null Count: 353\n",
      "Percentage of Null Values: 0.15667998224589436\n",
      "\n",
      "\n",
      "Feature: Revenue\n",
      "Null Count: 163\n",
      "Percentage of Null Values: 0.0723479804704838\n",
      "\n",
      "\n",
      "Feature: Competitors\n",
      "Null Count: 1732\n",
      "Percentage of Null Values: 0.7687527740790058\n",
      "\n",
      "\n",
      "Feature: EasyApply\n",
      "Null Count: 2173\n",
      "Percentage of Null Values: 0.9644917887261429\n",
      "\n",
      "\n"
     ]
    }
   ],
   "source": [
    "#Turn into a dataframe for cleaner output\n",
    "cols_with_null = []\n",
    "for col in df.columns[1:]:\n",
    "    print('Feature: {}'.format(col))\n",
    "    null_count = ((df[col] == -1) | (df[col] == '-1')).sum()\n",
    "    if null_count > 0:\n",
    "        cols_with_null.append(col)\n",
    "    print('Null Count: {}'.format(null_count))\n",
    "    print('Percentage of Null Values: {}'.format(null_count / len(df)))\n",
    "    print('\\n')"
   ]
  },
  {
   "cell_type": "code",
   "execution_count": 10,
   "metadata": {},
   "outputs": [
    {
     "data": {
      "text/plain": [
       "['SalaryEstimate',\n",
       " 'Rating',\n",
       " 'Headquarters',\n",
       " 'Size',\n",
       " 'Founded',\n",
       " 'TypeOfOwnership',\n",
       " 'Industry',\n",
       " 'Sector',\n",
       " 'Revenue',\n",
       " 'Competitors',\n",
       " 'EasyApply']"
      ]
     },
     "execution_count": 10,
     "metadata": {},
     "output_type": "execute_result"
    }
   ],
   "source": [
    "cols_with_null"
   ]
  },
  {
   "cell_type": "code",
   "execution_count": 11,
   "metadata": {},
   "outputs": [],
   "source": [
    "for feature in cols_with_null:\n",
    "    df.loc[(df[feature] == -1) | (df[feature] == '-1'), feature] = np.nan"
   ]
  },
  {
   "cell_type": "code",
   "execution_count": 12,
   "metadata": {},
   "outputs": [
    {
     "data": {
      "text/html": [
       "<div>\n",
       "<style scoped>\n",
       "    .dataframe tbody tr th:only-of-type {\n",
       "        vertical-align: middle;\n",
       "    }\n",
       "\n",
       "    .dataframe tbody tr th {\n",
       "        vertical-align: top;\n",
       "    }\n",
       "\n",
       "    .dataframe thead th {\n",
       "        text-align: right;\n",
       "    }\n",
       "</style>\n",
       "<table border=\"1\" class=\"dataframe\">\n",
       "  <thead>\n",
       "    <tr style=\"text-align: right;\">\n",
       "      <th></th>\n",
       "      <th>Unnamed: 0</th>\n",
       "      <th>JobTitle</th>\n",
       "      <th>SalaryEstimate</th>\n",
       "      <th>JobDescription</th>\n",
       "      <th>Rating</th>\n",
       "      <th>CompanyName</th>\n",
       "      <th>Location</th>\n",
       "      <th>Headquarters</th>\n",
       "      <th>Size</th>\n",
       "      <th>Founded</th>\n",
       "      <th>TypeOfOwnership</th>\n",
       "      <th>Industry</th>\n",
       "      <th>Sector</th>\n",
       "      <th>Revenue</th>\n",
       "      <th>Competitors</th>\n",
       "      <th>EasyApply</th>\n",
       "    </tr>\n",
       "  </thead>\n",
       "  <tbody>\n",
       "    <tr>\n",
       "      <th>0</th>\n",
       "      <td>0</td>\n",
       "      <td>Data Analyst, Center on Immigration and Justic...</td>\n",
       "      <td>$37K-$66K (Glassdoor est.)</td>\n",
       "      <td>Are you eager to roll up your sleeves and harn...</td>\n",
       "      <td>3.2</td>\n",
       "      <td>Vera Institute of Justice\\n3.2</td>\n",
       "      <td>New York, NY</td>\n",
       "      <td>New York, NY</td>\n",
       "      <td>201 to 500 employees</td>\n",
       "      <td>1961.0</td>\n",
       "      <td>Nonprofit Organization</td>\n",
       "      <td>Social Assistance</td>\n",
       "      <td>Non-Profit</td>\n",
       "      <td>$100 to $500 million (USD)</td>\n",
       "      <td>NaN</td>\n",
       "      <td>TRUE</td>\n",
       "    </tr>\n",
       "    <tr>\n",
       "      <th>1</th>\n",
       "      <td>1</td>\n",
       "      <td>Quality Data Analyst</td>\n",
       "      <td>$37K-$66K (Glassdoor est.)</td>\n",
       "      <td>Overview\\n\\nProvides analytical and technical ...</td>\n",
       "      <td>3.8</td>\n",
       "      <td>Visiting Nurse Service of New York\\n3.8</td>\n",
       "      <td>New York, NY</td>\n",
       "      <td>New York, NY</td>\n",
       "      <td>10000+ employees</td>\n",
       "      <td>1893.0</td>\n",
       "      <td>Nonprofit Organization</td>\n",
       "      <td>Health Care Services &amp; Hospitals</td>\n",
       "      <td>Health Care</td>\n",
       "      <td>$2 to $5 billion (USD)</td>\n",
       "      <td>NaN</td>\n",
       "      <td>NaN</td>\n",
       "    </tr>\n",
       "    <tr>\n",
       "      <th>2</th>\n",
       "      <td>2</td>\n",
       "      <td>Senior Data Analyst, Insights &amp; Analytics Team...</td>\n",
       "      <td>$37K-$66K (Glassdoor est.)</td>\n",
       "      <td>We’re looking for a Senior Data Analyst who ha...</td>\n",
       "      <td>3.4</td>\n",
       "      <td>Squarespace\\n3.4</td>\n",
       "      <td>New York, NY</td>\n",
       "      <td>New York, NY</td>\n",
       "      <td>1001 to 5000 employees</td>\n",
       "      <td>2003.0</td>\n",
       "      <td>Company - Private</td>\n",
       "      <td>Internet</td>\n",
       "      <td>Information Technology</td>\n",
       "      <td>Unknown / Non-Applicable</td>\n",
       "      <td>GoDaddy</td>\n",
       "      <td>NaN</td>\n",
       "    </tr>\n",
       "    <tr>\n",
       "      <th>3</th>\n",
       "      <td>3</td>\n",
       "      <td>Data Analyst</td>\n",
       "      <td>$37K-$66K (Glassdoor est.)</td>\n",
       "      <td>Requisition NumberRR-0001939\\nRemote:Yes\\nWe c...</td>\n",
       "      <td>4.1</td>\n",
       "      <td>Celerity\\n4.1</td>\n",
       "      <td>New York, NY</td>\n",
       "      <td>McLean, VA</td>\n",
       "      <td>201 to 500 employees</td>\n",
       "      <td>2002.0</td>\n",
       "      <td>Subsidiary or Business Segment</td>\n",
       "      <td>IT Services</td>\n",
       "      <td>Information Technology</td>\n",
       "      <td>$50 to $100 million (USD)</td>\n",
       "      <td>NaN</td>\n",
       "      <td>NaN</td>\n",
       "    </tr>\n",
       "    <tr>\n",
       "      <th>4</th>\n",
       "      <td>4</td>\n",
       "      <td>Reporting Data Analyst</td>\n",
       "      <td>$37K-$66K (Glassdoor est.)</td>\n",
       "      <td>ABOUT FANDUEL GROUP\\n\\nFanDuel Group is a worl...</td>\n",
       "      <td>3.9</td>\n",
       "      <td>FanDuel\\n3.9</td>\n",
       "      <td>New York, NY</td>\n",
       "      <td>New York, NY</td>\n",
       "      <td>501 to 1000 employees</td>\n",
       "      <td>2009.0</td>\n",
       "      <td>Company - Private</td>\n",
       "      <td>Sports &amp; Recreation</td>\n",
       "      <td>Arts, Entertainment &amp; Recreation</td>\n",
       "      <td>$100 to $500 million (USD)</td>\n",
       "      <td>DraftKings</td>\n",
       "      <td>TRUE</td>\n",
       "    </tr>\n",
       "  </tbody>\n",
       "</table>\n",
       "</div>"
      ],
      "text/plain": [
       "   Unnamed: 0                                           JobTitle  \\\n",
       "0           0  Data Analyst, Center on Immigration and Justic...   \n",
       "1           1                               Quality Data Analyst   \n",
       "2           2  Senior Data Analyst, Insights & Analytics Team...   \n",
       "3           3                                       Data Analyst   \n",
       "4           4                             Reporting Data Analyst   \n",
       "\n",
       "               SalaryEstimate  \\\n",
       "0  $37K-$66K (Glassdoor est.)   \n",
       "1  $37K-$66K (Glassdoor est.)   \n",
       "2  $37K-$66K (Glassdoor est.)   \n",
       "3  $37K-$66K (Glassdoor est.)   \n",
       "4  $37K-$66K (Glassdoor est.)   \n",
       "\n",
       "                                      JobDescription  Rating  \\\n",
       "0  Are you eager to roll up your sleeves and harn...     3.2   \n",
       "1  Overview\\n\\nProvides analytical and technical ...     3.8   \n",
       "2  We’re looking for a Senior Data Analyst who ha...     3.4   \n",
       "3  Requisition NumberRR-0001939\\nRemote:Yes\\nWe c...     4.1   \n",
       "4  ABOUT FANDUEL GROUP\\n\\nFanDuel Group is a worl...     3.9   \n",
       "\n",
       "                               CompanyName      Location  Headquarters  \\\n",
       "0           Vera Institute of Justice\\n3.2  New York, NY  New York, NY   \n",
       "1  Visiting Nurse Service of New York\\n3.8  New York, NY  New York, NY   \n",
       "2                         Squarespace\\n3.4  New York, NY  New York, NY   \n",
       "3                            Celerity\\n4.1  New York, NY    McLean, VA   \n",
       "4                             FanDuel\\n3.9  New York, NY  New York, NY   \n",
       "\n",
       "                     Size  Founded                 TypeOfOwnership  \\\n",
       "0    201 to 500 employees   1961.0          Nonprofit Organization   \n",
       "1        10000+ employees   1893.0          Nonprofit Organization   \n",
       "2  1001 to 5000 employees   2003.0               Company - Private   \n",
       "3    201 to 500 employees   2002.0  Subsidiary or Business Segment   \n",
       "4   501 to 1000 employees   2009.0               Company - Private   \n",
       "\n",
       "                           Industry                            Sector  \\\n",
       "0                 Social Assistance                        Non-Profit   \n",
       "1  Health Care Services & Hospitals                       Health Care   \n",
       "2                          Internet            Information Technology   \n",
       "3                       IT Services            Information Technology   \n",
       "4               Sports & Recreation  Arts, Entertainment & Recreation   \n",
       "\n",
       "                      Revenue Competitors EasyApply  \n",
       "0  $100 to $500 million (USD)         NaN      TRUE  \n",
       "1      $2 to $5 billion (USD)         NaN       NaN  \n",
       "2    Unknown / Non-Applicable     GoDaddy       NaN  \n",
       "3   $50 to $100 million (USD)         NaN       NaN  \n",
       "4  $100 to $500 million (USD)  DraftKings      TRUE  "
      ]
     },
     "execution_count": 12,
     "metadata": {},
     "output_type": "execute_result"
    }
   ],
   "source": [
    "df.head()"
   ]
  },
  {
   "cell_type": "code",
   "execution_count": 13,
   "metadata": {},
   "outputs": [
    {
     "data": {
      "text/plain": [
       "Unnamed: 0            0\n",
       "JobTitle              0\n",
       "SalaryEstimate        1\n",
       "JobDescription        0\n",
       "Rating              272\n",
       "CompanyName           1\n",
       "Location              0\n",
       "Headquarters        172\n",
       "Size                163\n",
       "Founded             660\n",
       "TypeOfOwnership     163\n",
       "Industry            353\n",
       "Sector              353\n",
       "Revenue             163\n",
       "Competitors        1732\n",
       "EasyApply          2173\n",
       "dtype: int64"
      ]
     },
     "execution_count": 13,
     "metadata": {},
     "output_type": "execute_result"
    }
   ],
   "source": [
    "df.isnull().sum()"
   ]
  },
  {
   "cell_type": "markdown",
   "metadata": {},
   "source": [
    "## Checking for Duplicate Rows"
   ]
  },
  {
   "cell_type": "code",
   "execution_count": 14,
   "metadata": {},
   "outputs": [
    {
     "data": {
      "text/html": [
       "<div>\n",
       "<style scoped>\n",
       "    .dataframe tbody tr th:only-of-type {\n",
       "        vertical-align: middle;\n",
       "    }\n",
       "\n",
       "    .dataframe tbody tr th {\n",
       "        vertical-align: top;\n",
       "    }\n",
       "\n",
       "    .dataframe thead th {\n",
       "        text-align: right;\n",
       "    }\n",
       "</style>\n",
       "<table border=\"1\" class=\"dataframe\">\n",
       "  <thead>\n",
       "    <tr style=\"text-align: right;\">\n",
       "      <th></th>\n",
       "      <th>Unnamed: 0</th>\n",
       "      <th>JobTitle</th>\n",
       "      <th>SalaryEstimate</th>\n",
       "      <th>JobDescription</th>\n",
       "      <th>Rating</th>\n",
       "      <th>CompanyName</th>\n",
       "      <th>Location</th>\n",
       "      <th>Headquarters</th>\n",
       "      <th>Size</th>\n",
       "      <th>Founded</th>\n",
       "      <th>TypeOfOwnership</th>\n",
       "      <th>Industry</th>\n",
       "      <th>Sector</th>\n",
       "      <th>Revenue</th>\n",
       "      <th>Competitors</th>\n",
       "      <th>EasyApply</th>\n",
       "    </tr>\n",
       "  </thead>\n",
       "  <tbody>\n",
       "  </tbody>\n",
       "</table>\n",
       "</div>"
      ],
      "text/plain": [
       "Empty DataFrame\n",
       "Columns: [Unnamed: 0, JobTitle, SalaryEstimate, JobDescription, Rating, CompanyName, Location, Headquarters, Size, Founded, TypeOfOwnership, Industry, Sector, Revenue, Competitors, EasyApply]\n",
       "Index: []"
      ]
     },
     "execution_count": 14,
     "metadata": {},
     "output_type": "execute_result"
    }
   ],
   "source": [
    "df[df.duplicated()]"
   ]
  },
  {
   "cell_type": "markdown",
   "metadata": {},
   "source": [
    "## Cleaning up Formatting Across Columns"
   ]
  },
  {
   "cell_type": "markdown",
   "metadata": {},
   "source": [
    "### Job Title"
   ]
  },
  {
   "cell_type": "code",
   "execution_count": 15,
   "metadata": {},
   "outputs": [
    {
     "data": {
      "text/plain": [
       "1272"
      ]
     },
     "execution_count": 15,
     "metadata": {},
     "output_type": "execute_result"
    }
   ],
   "source": [
    "len(df['JobTitle'].unique())"
   ]
  },
  {
   "cell_type": "code",
   "execution_count": 16,
   "metadata": {},
   "outputs": [
    {
     "data": {
      "text/plain": [
       "Data Analyst                               405\n",
       "Senior Data Analyst                         90\n",
       "Junior Data Analyst                         30\n",
       "Business Data Analyst                       28\n",
       "Sr. Data Analyst                            21\n",
       "Data Analyst Junior                         17\n",
       "Data Quality Analyst                        17\n",
       "Data Analyst II                             17\n",
       "Data Governance Analyst                     16\n",
       "Lead Data Analyst                           15\n",
       "Data Reporting Analyst                      13\n",
       "Financial Data Analyst                      12\n",
       "Data Analyst III                            11\n",
       "Data Analyst I                              11\n",
       "Sr Data Analyst                              9\n",
       "Marketing Data Analyst                       9\n",
       "Data Management Analyst                      8\n",
       "Data Warehouse Analyst                       8\n",
       "SQL Data Analyst                             7\n",
       "Technical Data Analyst                       7\n",
       "Data Science Analyst                         7\n",
       "Clinical Data Analyst                        6\n",
       "Research Data Analyst                        6\n",
       "Data Security Analyst                        6\n",
       "Healthcare Data Analyst                      6\n",
       "NY Healthcare Data/Reporting Analyst         5\n",
       "Product Data Analyst                         5\n",
       "Data Analyst III (Healthcare Analytics)      5\n",
       "Senior Healthcare Data Analyst               5\n",
       "Operations Data Analyst                      4\n",
       "Name: JobTitle, dtype: int64"
      ]
     },
     "execution_count": 16,
     "metadata": {},
     "output_type": "execute_result"
    }
   ],
   "source": [
    "df['JobTitle'].value_counts()[:30]"
   ]
  },
  {
   "cell_type": "code",
   "execution_count": 17,
   "metadata": {},
   "outputs": [
    {
     "data": {
      "text/plain": [
       "Data Analyst               405\n",
       "Senior Data Analyst        131\n",
       "Junior Data Analyst         64\n",
       "Business Data Analyst       28\n",
       "Data Quality Analyst        17\n",
       "Data Governance Analyst     16\n",
       "Lead Data Analyst           15\n",
       "Data Reporting Analyst      13\n",
       "Financial Data Analyst      12\n",
       "Data Analyst I              11\n",
       "Marketing Data Analyst       9\n",
       "Data Management Analyst      8\n",
       "Data Warehouse Analyst       8\n",
       "SQL Data Analyst             7\n",
       "Data Science Analyst         7\n",
       "Technical Data Analyst       7\n",
       "Research Data Analyst        6\n",
       "Data Security Analyst        6\n",
       "Healthcare Data Analyst      6\n",
       "Clinical Data Analyst        6\n",
       "Name: JobTitle, dtype: int64"
      ]
     },
     "execution_count": 17,
     "metadata": {},
     "output_type": "execute_result"
    }
   ],
   "source": [
    "df['JobTitle'].replace(['Sr. Data Analyst', 'Sr Data Analyst', \n",
    "                        'Data Analyst III'], 'Senior Data Analyst', inplace=True)\n",
    "df['JobTitle'].replace(['Data Analyst Junior', \"Data Analyst II\"], \n",
    "                       'Junior Data Analyst', inplace=True)\n",
    "df['JobTitle'].value_counts()[:20]"
   ]
  },
  {
   "cell_type": "markdown",
   "metadata": {},
   "source": [
    "### Salary Estimate"
   ]
  },
  {
   "cell_type": "code",
   "execution_count": 18,
   "metadata": {},
   "outputs": [
    {
     "data": {
      "text/plain": [
       "dtype('O')"
      ]
     },
     "execution_count": 18,
     "metadata": {},
     "output_type": "execute_result"
    }
   ],
   "source": [
    "df['SalaryEstimate'].dtype"
   ]
  },
  {
   "cell_type": "code",
   "execution_count": 19,
   "metadata": {},
   "outputs": [
    {
     "data": {
      "text/plain": [
       "$41K-$78K (Glassdoor est.)    57\n",
       "$42K-$76K (Glassdoor est.)    57\n",
       "$50K-$86K (Glassdoor est.)    41\n",
       "$35K-$67K (Glassdoor est.)    33\n",
       "$58K-$93K (Glassdoor est.)    31\n",
       "                              ..\n",
       "$42K-$63K (Glassdoor est.)     4\n",
       "$43K-$77K (Glassdoor est.)     3\n",
       "$47K-$81K (Glassdoor est.)     3\n",
       "$36K-$67K (Glassdoor est.)     3\n",
       "$57K-$70K (Glassdoor est.)     2\n",
       "Name: SalaryEstimate, Length: 89, dtype: int64"
      ]
     },
     "execution_count": 19,
     "metadata": {},
     "output_type": "execute_result"
    }
   ],
   "source": [
    "df['SalaryEstimate'].value_counts()"
   ]
  },
  {
   "cell_type": "markdown",
   "metadata": {},
   "source": [
    "Lets extract the numbers and discard the rest of the information"
   ]
  },
  {
   "cell_type": "code",
   "execution_count": 20,
   "metadata": {},
   "outputs": [],
   "source": [
    "df['LowerEndSalary'] = df['SalaryEstimate'].str[1:3]\n",
    "df['UpperEndSalary'] = df['SalaryEstimate'].str[6:8]"
   ]
  },
  {
   "cell_type": "code",
   "execution_count": 21,
   "metadata": {},
   "outputs": [
    {
     "data": {
      "text/plain": [
       "array(['37', '46', '51', '59', '43', '60', '41', '45', '73', '84', '27',\n",
       "       '42', '77', '98', '48', '26', '31', '47', '49', '30', '55', '57',\n",
       "       '35', '65', '11', '67', '97', '68', '29', '74', '53', '38', '64',\n",
       "       '50', '76', '34', '24', '44', '89', '69', '58', '63', '40', '28',\n",
       "       '54', '99', '93', '82', nan, '32', '36', '78'], dtype=object)"
      ]
     },
     "execution_count": 21,
     "metadata": {},
     "output_type": "execute_result"
    }
   ],
   "source": [
    "df['LowerEndSalary'].unique()"
   ]
  },
  {
   "cell_type": "code",
   "execution_count": 22,
   "metadata": {},
   "outputs": [
    {
     "data": {
      "text/plain": [
       "array(['66', '87', '88', '85', '76', '11', '78', '12', '90', '52', '74',\n",
       "       '13', '96', '47', '59', '81', '69', '54', '10', '70', '45', '$1',\n",
       "       '63', '82', '92', '38', '94', '68', '44', '93', '89', '61', '48',\n",
       "       '53', '86', '15', '42', '77', '72', '67', '75', '99', '17', nan,\n",
       "       '56', '91'], dtype=object)"
      ]
     },
     "execution_count": 22,
     "metadata": {},
     "output_type": "execute_result"
    }
   ],
   "source": [
    "df['UpperEndSalary'].unique()"
   ]
  },
  {
   "cell_type": "markdown",
   "metadata": {},
   "source": [
    "There is one instance in which this method of string parsing was not effective in extracting exclusively the number value, so let's try a method less sensitive to differences in formatting (regex matching). Furthermore, this indexing method does not account for 6 figure salaries."
   ]
  },
  {
   "cell_type": "code",
   "execution_count": 23,
   "metadata": {},
   "outputs": [],
   "source": [
    "import re\n",
    "def salary_extract(salary_string):\n",
    "    return re.findall(r'(\\d+)', str(salary_string))"
   ]
  },
  {
   "cell_type": "code",
   "execution_count": 24,
   "metadata": {},
   "outputs": [],
   "source": [
    "df['salaries_parsed'] = df['SalaryEstimate'].apply(salary_extract)"
   ]
  },
  {
   "cell_type": "code",
   "execution_count": 25,
   "metadata": {},
   "outputs": [],
   "source": [
    "df['LowerEndSalary'] = [int(salary[0]) if len(salary) == 2 else np.nan for salary \n",
    "                        in df['salaries_parsed']] \n",
    "df['UpperEndSalary'] = [int(salary[1]) if len(salary) == 2 else np.nan for salary \n",
    "                        in df['salaries_parsed']]\n",
    "df = df.loc[df['LowerEndSalary'].notna()]"
   ]
  },
  {
   "cell_type": "code",
   "execution_count": 26,
   "metadata": {},
   "outputs": [
    {
     "data": {
      "text/html": [
       "<div>\n",
       "<style scoped>\n",
       "    .dataframe tbody tr th:only-of-type {\n",
       "        vertical-align: middle;\n",
       "    }\n",
       "\n",
       "    .dataframe tbody tr th {\n",
       "        vertical-align: top;\n",
       "    }\n",
       "\n",
       "    .dataframe thead th {\n",
       "        text-align: right;\n",
       "    }\n",
       "</style>\n",
       "<table border=\"1\" class=\"dataframe\">\n",
       "  <thead>\n",
       "    <tr style=\"text-align: right;\">\n",
       "      <th></th>\n",
       "      <th>LowerEndSalary</th>\n",
       "      <th>UpperEndSalary</th>\n",
       "      <th>AvgSalary</th>\n",
       "    </tr>\n",
       "  </thead>\n",
       "  <tbody>\n",
       "    <tr>\n",
       "      <th>0</th>\n",
       "      <td>37.0</td>\n",
       "      <td>66.0</td>\n",
       "      <td>51.0</td>\n",
       "    </tr>\n",
       "    <tr>\n",
       "      <th>1</th>\n",
       "      <td>37.0</td>\n",
       "      <td>66.0</td>\n",
       "      <td>51.0</td>\n",
       "    </tr>\n",
       "    <tr>\n",
       "      <th>2</th>\n",
       "      <td>37.0</td>\n",
       "      <td>66.0</td>\n",
       "      <td>51.0</td>\n",
       "    </tr>\n",
       "    <tr>\n",
       "      <th>3</th>\n",
       "      <td>37.0</td>\n",
       "      <td>66.0</td>\n",
       "      <td>51.0</td>\n",
       "    </tr>\n",
       "    <tr>\n",
       "      <th>4</th>\n",
       "      <td>37.0</td>\n",
       "      <td>66.0</td>\n",
       "      <td>51.0</td>\n",
       "    </tr>\n",
       "    <tr>\n",
       "      <th>...</th>\n",
       "      <td>...</td>\n",
       "      <td>...</td>\n",
       "      <td>...</td>\n",
       "    </tr>\n",
       "    <tr>\n",
       "      <th>2248</th>\n",
       "      <td>78.0</td>\n",
       "      <td>104.0</td>\n",
       "      <td>91.0</td>\n",
       "    </tr>\n",
       "    <tr>\n",
       "      <th>2249</th>\n",
       "      <td>78.0</td>\n",
       "      <td>104.0</td>\n",
       "      <td>91.0</td>\n",
       "    </tr>\n",
       "    <tr>\n",
       "      <th>2250</th>\n",
       "      <td>78.0</td>\n",
       "      <td>104.0</td>\n",
       "      <td>91.0</td>\n",
       "    </tr>\n",
       "    <tr>\n",
       "      <th>2251</th>\n",
       "      <td>78.0</td>\n",
       "      <td>104.0</td>\n",
       "      <td>91.0</td>\n",
       "    </tr>\n",
       "    <tr>\n",
       "      <th>2252</th>\n",
       "      <td>78.0</td>\n",
       "      <td>104.0</td>\n",
       "      <td>91.0</td>\n",
       "    </tr>\n",
       "  </tbody>\n",
       "</table>\n",
       "<p>2252 rows × 3 columns</p>\n",
       "</div>"
      ],
      "text/plain": [
       "      LowerEndSalary  UpperEndSalary  AvgSalary\n",
       "0               37.0            66.0       51.0\n",
       "1               37.0            66.0       51.0\n",
       "2               37.0            66.0       51.0\n",
       "3               37.0            66.0       51.0\n",
       "4               37.0            66.0       51.0\n",
       "...              ...             ...        ...\n",
       "2248            78.0           104.0       91.0\n",
       "2249            78.0           104.0       91.0\n",
       "2250            78.0           104.0       91.0\n",
       "2251            78.0           104.0       91.0\n",
       "2252            78.0           104.0       91.0\n",
       "\n",
       "[2252 rows x 3 columns]"
      ]
     },
     "execution_count": 26,
     "metadata": {},
     "output_type": "execute_result"
    }
   ],
   "source": [
    "df['AvgSalary'] = (df['LowerEndSalary'] + df['UpperEndSalary']) // 2\n",
    "df[['LowerEndSalary', 'UpperEndSalary', 'AvgSalary']]"
   ]
  },
  {
   "cell_type": "markdown",
   "metadata": {},
   "source": [
    "### Job Description"
   ]
  },
  {
   "cell_type": "code",
   "execution_count": 28,
   "metadata": {},
   "outputs": [
    {
     "data": {
      "text/plain": [
       "count                                                  2252\n",
       "unique                                                 2252\n",
       "top       Req ID: 35181\\nExperience Level: Professional\\...\n",
       "freq                                                      1\n",
       "Name: JobDescription, dtype: object"
      ]
     },
     "execution_count": 28,
     "metadata": {},
     "output_type": "execute_result"
    }
   ],
   "source": [
    "df['JobDescription'].describe()"
   ]
  },
  {
   "cell_type": "code",
   "execution_count": 29,
   "metadata": {},
   "outputs": [
    {
     "name": "stdout",
     "output_type": "stream",
     "text": [
      "Are you eager to roll up your sleeves and harness data to drive policy change? Do you enjoy sifting through complex datasets to illuminate trends and insights? Do you see yourself working for a values-driven organization with a vision to tackle the most pressing injustices of our day?\n",
      "\n",
      "We are looking to hire a bright, hard-working, and creative individual with strong data management skills and a demonstrated commitment to immigrant's rights. The Data Analyst will assist with analysis and reporting needs for Veras Center on Immigration and Justice (CIJ), working across its current projects and future Vera initiatives.\n",
      "\n",
      "Who we are:\n",
      "\n",
      "Founded in 1961, The Vera Institute is an independent, non-partisan, nonprofit organization that combines expertise in research, technical assistance, and demonstration projects to assist leaders in government and civil society examine justice policy and practice, and improve the systems people rely on for justice and safety.\n",
      "We study problems that impede human dignity and justice.\n",
      "We pilot solutions that are at once transformative and achievable.\n",
      "We engage diverse communities in informed debate.\n",
      "And we harness the power of evidence to drive effective policy and practice\n",
      "What were doing:\n",
      "\n",
      "We are helping to build a movementamong government leaders, advocates, and the immigration legal services communitytowards universal legal representation for immigrants facing deportation. In the face of stepped-up immigration enforcement, millions of non-citizens are at risk of extended detention and permanent separation from their families and communities. Veras Center on Immigration and Justice (CIJ) partners with government, non-profit partners, and communities to improve government systems that affect immigrants and their families. CIJ administers several nationwide legal services programs for immigrants facing deportation, develops and implements pilot programs, provides technical assistance, and conducts independent research and evaluation.\n",
      "\n",
      "Thats where you come in:\n",
      "The Data Analyst will support the Centers programmatic efforts through regular monitoring and reporting of federal government and subcontractor data. CIJ manages several proprietary databases that run on AWS and Caspio and uses SQL, R, and Python to manage data. This is an opportunity to help shape an innovative national research and policy agenda as part of a dedicated team of experts working to improve access to justice for non-citizens.\n",
      "\n",
      "Vera seeks to hire a Data Analyst to work on various data management projects with its Center on Immigration and Justice (CIJ). In collaboration with other Data Analysts, this position will involve work across several projects, such as the Unaccompanied Childrens Program (UCP), a program to increase legal representation for immigrant children facing deportation without a parent or legal guardian. The position may cover additional duties for the Legal Orientation Program for Custodians (LOPC), which educates the custodians of unaccompanied children about their rights and the immigration court process.\n",
      "\n",
      "About the role:\n",
      "\n",
      "As a Data Analyst, you will report to a member of the research team and work in close collaboration with other Vera staff on ongoing database management, monitoring, reporting, and analysis projects. Youll support the team by taking ownership of ongoing monitoring and reporting tasks involving large data sets. Other principal responsibilities will include:\n",
      "Supporting research staff by preparing large datasets for analysis, including merging, cleaning, and recoding data;\n",
      "Providing insights into program performance through summary statistics and performance indicators;\n",
      "Producing timely reports on Vera projects for team members and stakeholders;\n",
      "Improving recurring reporting processes by optimizing code and producing subsequent documentation;\n",
      "Coordinating database management tasks such as participating in new database design, modifying existing databases, and communicating with outside engineers and subcontractors;\n",
      "Developing codebooks and delivering user trainings through webinars and database guides;\n",
      "Building and maintaining interactive dashboards;\n",
      "Documenting and correcting data quality issues;\n",
      "Working with supervisors to prioritize program needs;\n",
      "Assisting on other projects and tasks as assigned.\n",
      "About you:\n",
      "\n",
      "Youre committed to improving issues affecting immigrants in the United States. Applicants with personal experiences with the immigration system are especially encouraged to apply.\n",
      "\n",
      "Youre just getting started in your career and have 1 2 years of professional or internship experience working with large datasets and preparing data for analysis.\n",
      "\n",
      "You have a real enthusiasm for working with data.\n",
      "\n",
      "You are comfortable writing queries in SQL, R, and/or Python, or have a solid foundation coding in other programming languages used to manipulate data. Experience working collaboratively using tools like Git/GitHub is a plus.\n",
      "\n",
      "You have exceptional attention to detail, strong problem-solving ability and logical reasoning skills, and the ability to detect anomalies in data.\n",
      "\n",
      "Youre able to work on multiple projects effectively and efficiently, both independently and collaboratively with a team.\n",
      "\n",
      "This position involves working with secure data that may require government security clearance. That clearance is restricted to U.S. citizens and citizens of countries that are party to collective defense agreements with the U.S. The list of those countries is detailed on this webpage. An additional requirement of that clearance is residence in the United States for at least three of the last five years.\n",
      "\n",
      "How to apply:\n",
      "\n",
      "Please submit cover letter and resume. Applications will be considered on a rolling basis until position is filled. Online submission in PDF format is preferred. Applications with no cover letter attached will not be considered. The cover letter should address your interest in CIJ and this position.\n",
      "\n",
      "However, if necessary, materials may be mailed or faxed to\n",
      "\n",
      "ATTN: Human Resources / CIJ Data Analyst Recruitment\n",
      "\n",
      "Vera Institute of Justice\n",
      "\n",
      "34 35th St, Suite 4-2A\n",
      "\n",
      "Brooklyn, NY 11232\n",
      "\n",
      "Fax: (212) 941-9407\n",
      "\n",
      "Please use only one method (online, mail or fax) of submission.\n",
      "\n",
      "No phone calls, please. Only applicants selected for interviews will be contacted.\n",
      "\n",
      "Vera is an equal opportunity/affirmative action employer. All qualified applicants will be considered for employment without unlawful discrimination based on race, color, creed, national origin, sex, age, disability, marital status, sexual orientation, military status, prior record of arrest or conviction, citizenship status, current employment status, or caregiver status.\n",
      "\n",
      "Vera works to advance justice, particularly racial justice, in an increasingly multicultural country and globally connected world. We value diverse experiences, including with regard to educational background and justice system contact, and depend on a diverse staff to carry out our mission.\n",
      "\n",
      "For more information about Vera and CIJs work, please visit www.vera.org.\n",
      "\n",
      "Powered by JazzHR\n"
     ]
    }
   ],
   "source": [
    "print(df['JobDescription'][0])"
   ]
  },
  {
   "cell_type": "code",
   "execution_count": 30,
   "metadata": {},
   "outputs": [
    {
     "data": {
      "text/plain": [
       "'requisition numberrr0001939\\nremoteyes\\nwe collaborate we create we innovate\\n\\nintrigued\\n\\nyoure a business professional with an innate curiosity that thrives in a dynamic and agile environment you appreciate teamwork exemplify integrity perseverance flexibility and a generosity of spirit if this sounds like you then please apply  wed love to meet you\\n\\ncelerity is expanding and on the hunt for the savvy creative and analytically sound individuals that are motivated by solving complex problems were in the business of transforming how people process and systems coexist while improving operational efficiencies and userdriven interactions we work with groundbreaking companies melding expertise in digital strategy technology creative and business transformation\\nthe health and safety of our employees is our top priority due to the pandemic all our employees are working remotely and we will be conducting candidate interviews by video this position will continue to be remote once the covid19 crisis has abated\\n\\nwhat youll do\\n\\n perform data visualization and comparisons across multiple data sources  systems of record to provide valueadded insights to support critical business operations teams\\n build scripts to perform lowlevel analysis and data investigation working in conjunction with other celerity or client team members to improve data accuracy and make more informed decisions\\n support movement of large amounts of data and existing processes into new ecosystems including looking for opportunities for greater automation of existing processes via sql\\n produce customized reports and visualizations as well as other adhoc analysis in support of timesensitive business requests\\n demonstrate flexibility to expand beyond a pure data analysis role including upstream requirements gathering or downstream process recommendationsimplementations centered around a strong understanding of client data\\n\\nabout you\\n\\n bachelors degree in business management or a quantitative field 3 years sql development of complex queries\\n 2 years professional experience\\n expertise designing and implementing etl processes you have teradata sql experience preferred\\n experience with data visualization such as tableau or powerbi\\n you understand and have experience with multidimensional analysis and queries\\n strong communication skills\\n you have an analytical mindset to be able to ask probing questions to eradicate ambiguity and are willing to point out flaws in logic and identify better ways to do things\\n you have good data intuition\\n you are not an order taker but an analyst that can sniff out trends identify patterns and answer open ended questions\\n willingness to expand scope of work beyond data to include business analyst process analyst or project manager type activities as necessary\\nwe are celerity\\n\\nmillions of people every day use websites applications and business processes designed and built by celerity as a consultancy of technologists creatives and business experts we provide the action plans teams and solutions our clients need to transform the way they do business and deepen engagement with their customers\\n\\ncelerity empowers autonomy and accountability we understand life happens and want our team to do what is needed to get the work done enjoy it along the way and have plenty of time and energy for family and friends vacations hobbies learning of languages you name it at celerity our focus is on bringing synergies to business process technology and creative chops to deliver inspirational solutions we love giving kudos and celebrating achievements we provide an inclusive and flexible environment that fosters collaboration quick pivots and quality work\\n\\noriginally founded in 2002 celerity was acquired in 2015 by ausy a francebased it consultancy and engineering services firm with 8 regional offices and 400 employees celeritys clients span a variety of industries including media and entertainment healthcare financial services manufacturing nonprofit and hospitality\\n\\nyou can also get to know us better on instagram facebook dribbble linkedin and twitter\\n\\nbuild your career\\n\\nat celerity our professional growth plan focuses on individualizing everyones track through incorporating personal interests with training and mentorship while further expanding existing strong suits we recognize in this everevolving digital world there is extreme value in learning new skills and technologies celerity provides opportunities to shape skill sets work with an amazing team of industryleading consultants and exciting clients in addition to professional trainings and certifications that best align with your career goals\\nwe are proud to be an equal opportunity employer all employment decisions shall be made without regard to age race creed color religion sex national origin ancestry disability status veteran status sexual orientation gender identity or expression genetic information marital status citizenship status or any other basis as protected by federal state or local law\\ncelerity is committed to providing veteran employment opportunities to our service men and women'"
      ]
     },
     "execution_count": 30,
     "metadata": {},
     "output_type": "execute_result"
    }
   ],
   "source": [
    "test_str = df['JobDescription'][3]\n",
    "test_str = re.sub(r'[^\\w\\s]', '', test_str)\n",
    "test_str = test_str.lower()\n",
    "test_str"
   ]
  },
  {
   "cell_type": "code",
   "execution_count": 31,
   "metadata": {},
   "outputs": [],
   "source": [
    "def freq(job_str):\n",
    "    #Removing Punctuation\n",
    "    job_str = re.sub(r'[^\\w\\s]', '', job_str)\n",
    "    \n",
    "    #Making lowercase\n",
    "    job_str = job_str.lower()\n",
    "    \n",
    "    #Splitting on spaces\n",
    "    job_str = job_str.split()\n",
    "    job_str_list = []\n",
    "    \n",
    "    for substring in job_str:\n",
    "        if substring not in job_str_list:\n",
    "            job_str_list.append(substring)\n",
    "            \n",
    "    for word in job_str_list:\n",
    "        print('Frequency of', word, 'is :', job_str.count(word))"
   ]
  },
  {
   "cell_type": "code",
   "execution_count": 32,
   "metadata": {},
   "outputs": [
    {
     "name": "stdout",
     "output_type": "stream",
     "text": [
      "Frequency of requisition is : 1\n",
      "Frequency of numberrr0001939 is : 1\n",
      "Frequency of remoteyes is : 1\n",
      "Frequency of we is : 1\n",
      "Frequency of collabora is : 1\n"
     ]
    }
   ],
   "source": [
    "freq(test_str[:50])"
   ]
  },
  {
   "cell_type": "markdown",
   "metadata": {},
   "source": [
    "After googling 'skills required by a data analyst,' I've assorted the following list and want to know the frequency with which these skills appear in the data analyst job descriptions"
   ]
  },
  {
   "cell_type": "code",
   "execution_count": 33,
   "metadata": {},
   "outputs": [],
   "source": [
    "#lowercased for string matching purposes\n",
    "technical_skills = ['python', 'sql', 'nosql', 'excel', 'r', \n",
    "                    'data visualization', 'machine learning', \n",
    "                    'data cleaning', 'matlab', 'tableau', \n",
    "                    'data warehousing']\n",
    "soft_skills = ['critical thinking', 'communication', 'problem solving', \n",
    "               'collaboration']"
   ]
  },
  {
   "cell_type": "code",
   "execution_count": 34,
   "metadata": {},
   "outputs": [],
   "source": [
    "def skill_check(job_str, sk):\n",
    "    #Removing Punctuation\n",
    "    job_str = re.sub(r'[^\\w\\s]', '', job_str)\n",
    "    \n",
    "    #Making lowercase\n",
    "    job_str = job_str.lower()\n",
    "    \n",
    "    #Splitting on spaces\n",
    "    job_str = job_str.split()\n",
    "    \n",
    "    if sk in job_str:\n",
    "        return 1\n",
    "    else:\n",
    "        return 0"
   ]
  },
  {
   "cell_type": "code",
   "execution_count": 35,
   "metadata": {},
   "outputs": [],
   "source": [
    "#Add column for each skill, 1 if skill is mentioned and 0 if not\n",
    "def add_technical_skills():\n",
    "    for skill in technical_skills:\n",
    "        df[skill] = df['JobDescription'].apply(lambda text: skill_check(text, skill))"
   ]
  },
  {
   "cell_type": "code",
   "execution_count": 36,
   "metadata": {},
   "outputs": [],
   "source": [
    "#Add column for each skill, 1 if skill is mentioned and 0 if not\n",
    "def add_soft_skills():\n",
    "    for skill in soft_skills:\n",
    "        df[skill] = df['JobDescription'].apply(lambda text: skill_check(text, skill))"
   ]
  },
  {
   "cell_type": "code",
   "execution_count": 37,
   "metadata": {},
   "outputs": [],
   "source": [
    "add_technical_skills()\n",
    "add_soft_skills()"
   ]
  },
  {
   "cell_type": "code",
   "execution_count": 38,
   "metadata": {},
   "outputs": [
    {
     "data": {
      "text/html": [
       "<div>\n",
       "<style scoped>\n",
       "    .dataframe tbody tr th:only-of-type {\n",
       "        vertical-align: middle;\n",
       "    }\n",
       "\n",
       "    .dataframe tbody tr th {\n",
       "        vertical-align: top;\n",
       "    }\n",
       "\n",
       "    .dataframe thead th {\n",
       "        text-align: right;\n",
       "    }\n",
       "</style>\n",
       "<table border=\"1\" class=\"dataframe\">\n",
       "  <thead>\n",
       "    <tr style=\"text-align: right;\">\n",
       "      <th></th>\n",
       "      <th>python</th>\n",
       "      <th>sql</th>\n",
       "      <th>nosql</th>\n",
       "      <th>excel</th>\n",
       "      <th>r</th>\n",
       "      <th>data visualization</th>\n",
       "      <th>machine learning</th>\n",
       "      <th>data cleaning</th>\n",
       "      <th>matlab</th>\n",
       "      <th>tableau</th>\n",
       "      <th>data warehousing</th>\n",
       "      <th>critical thinking</th>\n",
       "      <th>communication</th>\n",
       "      <th>problem solving</th>\n",
       "      <th>collaboration</th>\n",
       "    </tr>\n",
       "  </thead>\n",
       "  <tbody>\n",
       "    <tr>\n",
       "      <th>0</th>\n",
       "      <td>1</td>\n",
       "      <td>1</td>\n",
       "      <td>0</td>\n",
       "      <td>0</td>\n",
       "      <td>1</td>\n",
       "      <td>0</td>\n",
       "      <td>0</td>\n",
       "      <td>0</td>\n",
       "      <td>0</td>\n",
       "      <td>0</td>\n",
       "      <td>0</td>\n",
       "      <td>0</td>\n",
       "      <td>0</td>\n",
       "      <td>0</td>\n",
       "      <td>1</td>\n",
       "    </tr>\n",
       "    <tr>\n",
       "      <th>1</th>\n",
       "      <td>0</td>\n",
       "      <td>1</td>\n",
       "      <td>0</td>\n",
       "      <td>1</td>\n",
       "      <td>1</td>\n",
       "      <td>0</td>\n",
       "      <td>0</td>\n",
       "      <td>0</td>\n",
       "      <td>0</td>\n",
       "      <td>0</td>\n",
       "      <td>0</td>\n",
       "      <td>0</td>\n",
       "      <td>1</td>\n",
       "      <td>0</td>\n",
       "      <td>0</td>\n",
       "    </tr>\n",
       "    <tr>\n",
       "      <th>2</th>\n",
       "      <td>0</td>\n",
       "      <td>1</td>\n",
       "      <td>0</td>\n",
       "      <td>1</td>\n",
       "      <td>0</td>\n",
       "      <td>0</td>\n",
       "      <td>0</td>\n",
       "      <td>0</td>\n",
       "      <td>0</td>\n",
       "      <td>1</td>\n",
       "      <td>0</td>\n",
       "      <td>0</td>\n",
       "      <td>0</td>\n",
       "      <td>0</td>\n",
       "      <td>0</td>\n",
       "    </tr>\n",
       "    <tr>\n",
       "      <th>3</th>\n",
       "      <td>0</td>\n",
       "      <td>1</td>\n",
       "      <td>0</td>\n",
       "      <td>0</td>\n",
       "      <td>0</td>\n",
       "      <td>0</td>\n",
       "      <td>0</td>\n",
       "      <td>0</td>\n",
       "      <td>0</td>\n",
       "      <td>1</td>\n",
       "      <td>0</td>\n",
       "      <td>0</td>\n",
       "      <td>1</td>\n",
       "      <td>0</td>\n",
       "      <td>1</td>\n",
       "    </tr>\n",
       "    <tr>\n",
       "      <th>4</th>\n",
       "      <td>1</td>\n",
       "      <td>1</td>\n",
       "      <td>0</td>\n",
       "      <td>1</td>\n",
       "      <td>0</td>\n",
       "      <td>0</td>\n",
       "      <td>0</td>\n",
       "      <td>0</td>\n",
       "      <td>0</td>\n",
       "      <td>0</td>\n",
       "      <td>0</td>\n",
       "      <td>0</td>\n",
       "      <td>0</td>\n",
       "      <td>0</td>\n",
       "      <td>0</td>\n",
       "    </tr>\n",
       "    <tr>\n",
       "      <th>5</th>\n",
       "      <td>1</td>\n",
       "      <td>1</td>\n",
       "      <td>0</td>\n",
       "      <td>1</td>\n",
       "      <td>0</td>\n",
       "      <td>0</td>\n",
       "      <td>0</td>\n",
       "      <td>0</td>\n",
       "      <td>0</td>\n",
       "      <td>0</td>\n",
       "      <td>0</td>\n",
       "      <td>0</td>\n",
       "      <td>1</td>\n",
       "      <td>0</td>\n",
       "      <td>0</td>\n",
       "    </tr>\n",
       "    <tr>\n",
       "      <th>6</th>\n",
       "      <td>1</td>\n",
       "      <td>1</td>\n",
       "      <td>0</td>\n",
       "      <td>1</td>\n",
       "      <td>0</td>\n",
       "      <td>0</td>\n",
       "      <td>0</td>\n",
       "      <td>0</td>\n",
       "      <td>0</td>\n",
       "      <td>0</td>\n",
       "      <td>0</td>\n",
       "      <td>0</td>\n",
       "      <td>1</td>\n",
       "      <td>0</td>\n",
       "      <td>0</td>\n",
       "    </tr>\n",
       "  </tbody>\n",
       "</table>\n",
       "</div>"
      ],
      "text/plain": [
       "   python  sql  nosql  excel  r  data visualization  machine learning  \\\n",
       "0       1    1      0      0  1                   0                 0   \n",
       "1       0    1      0      1  1                   0                 0   \n",
       "2       0    1      0      1  0                   0                 0   \n",
       "3       0    1      0      0  0                   0                 0   \n",
       "4       1    1      0      1  0                   0                 0   \n",
       "5       1    1      0      1  0                   0                 0   \n",
       "6       1    1      0      1  0                   0                 0   \n",
       "\n",
       "   data cleaning  matlab  tableau  data warehousing  critical thinking  \\\n",
       "0              0       0        0                 0                  0   \n",
       "1              0       0        0                 0                  0   \n",
       "2              0       0        1                 0                  0   \n",
       "3              0       0        1                 0                  0   \n",
       "4              0       0        0                 0                  0   \n",
       "5              0       0        0                 0                  0   \n",
       "6              0       0        0                 0                  0   \n",
       "\n",
       "   communication  problem solving  collaboration  \n",
       "0              0                0              1  \n",
       "1              1                0              0  \n",
       "2              0                0              0  \n",
       "3              1                0              1  \n",
       "4              0                0              0  \n",
       "5              1                0              0  \n",
       "6              1                0              0  "
      ]
     },
     "execution_count": 38,
     "metadata": {},
     "output_type": "execute_result"
    }
   ],
   "source": [
    "df.loc[:6, 'python':]"
   ]
  },
  {
   "cell_type": "markdown",
   "metadata": {},
   "source": [
    "Do the skills differ across different fields?"
   ]
  },
  {
   "cell_type": "markdown",
   "metadata": {},
   "source": [
    "### Rating"
   ]
  },
  {
   "cell_type": "code",
   "execution_count": 39,
   "metadata": {},
   "outputs": [
    {
     "data": {
      "text/plain": [
       "array([3.2, 3.8, 3.4, 4.1, 3.9, 4.4, 3.7, 4. , nan, 3. , 3.6, 4.9, 3.3,\n",
       "       3.5, 5. , 4.8, 4.7, 4.6, 2.9, 1. , 3.1, 4.5, 2.3, 4.2, 2.8, 4.3,\n",
       "       2.7, 2.5, 2.6, 2.4, 2. , 2.1, 1.7, 2.2, 1.8, 1.6, 1.9])"
      ]
     },
     "execution_count": 39,
     "metadata": {},
     "output_type": "execute_result"
    }
   ],
   "source": [
    "df['Rating'].unique()"
   ]
  },
  {
   "cell_type": "markdown",
   "metadata": {},
   "source": [
    "### Company Name"
   ]
  },
  {
   "cell_type": "code",
   "execution_count": 40,
   "metadata": {},
   "outputs": [
    {
     "data": {
      "text/plain": [
       "0             Vera Institute of Justice\\n3.2\n",
       "1    Visiting Nurse Service of New York\\n3.8\n",
       "2                           Squarespace\\n3.4\n",
       "3                              Celerity\\n4.1\n",
       "4                               FanDuel\\n3.9\n",
       "Name: CompanyName, dtype: object"
      ]
     },
     "execution_count": 40,
     "metadata": {},
     "output_type": "execute_result"
    }
   ],
   "source": [
    "df.CompanyName.head()"
   ]
  },
  {
   "cell_type": "markdown",
   "metadata": {},
   "source": [
    "Rating values seem to have gotten lumped in with company names. Let's clean these instances up."
   ]
  },
  {
   "cell_type": "code",
   "execution_count": 41,
   "metadata": {},
   "outputs": [],
   "source": [
    "df['CompanyName'] = df['CompanyName'].str.replace(r'(\\d\\.(\\d)*)', '', regex=True).str.rstrip()"
   ]
  },
  {
   "cell_type": "code",
   "execution_count": 42,
   "metadata": {},
   "outputs": [
    {
     "name": "stdout",
     "output_type": "stream",
     "text": [
      "                             CompanyName\n",
      "0              Vera Institute of Justice\n",
      "1     Visiting Nurse Service of New York\n",
      "2                            Squarespace\n",
      "3                               Celerity\n",
      "4                                FanDuel\n",
      "...                                  ...\n",
      "2248                       Avacend, Inc.\n",
      "2249                   Arrow Electronics\n",
      "2250                            Spiceorb\n",
      "2251         Contingent Network Services\n",
      "2252                          SCL Health\n",
      "\n",
      "[2252 rows x 1 columns]\n"
     ]
    }
   ],
   "source": [
    "print(df[['CompanyName']])"
   ]
  },
  {
   "cell_type": "markdown",
   "metadata": {},
   "source": [
    "### Easy Apply"
   ]
  },
  {
   "cell_type": "code",
   "execution_count": 43,
   "metadata": {},
   "outputs": [
    {
     "name": "stdout",
     "output_type": "stream",
     "text": [
      "     EasyApply\n",
      "0         TRUE\n",
      "1          NaN\n",
      "2          NaN\n",
      "3          NaN\n",
      "4         TRUE\n",
      "...        ...\n",
      "2248       NaN\n",
      "2249       NaN\n",
      "2250       NaN\n",
      "2251       NaN\n",
      "2252       NaN\n",
      "\n",
      "[2252 rows x 1 columns]\n"
     ]
    }
   ],
   "source": [
    "print(df[['EasyApply']])"
   ]
  },
  {
   "cell_type": "code",
   "execution_count": 44,
   "metadata": {},
   "outputs": [
    {
     "data": {
      "text/plain": [
       "float"
      ]
     },
     "execution_count": 44,
     "metadata": {},
     "output_type": "execute_result"
    }
   ],
   "source": [
    "type(df['EasyApply'][1])"
   ]
  },
  {
   "cell_type": "code",
   "execution_count": 45,
   "metadata": {},
   "outputs": [],
   "source": [
    "#Changing non-TRUE values to FALSE\n",
    "df.loc[df['EasyApply'] != 'TRUE', 'EasyApply'] = 'FALSE'"
   ]
  },
  {
   "cell_type": "code",
   "execution_count": 46,
   "metadata": {},
   "outputs": [
    {
     "data": {
      "text/plain": [
       "FALSE    2172\n",
       "TRUE       80\n",
       "Name: EasyApply, dtype: int64"
      ]
     },
     "execution_count": 46,
     "metadata": {},
     "output_type": "execute_result"
    }
   ],
   "source": [
    "df['EasyApply'].value_counts()"
   ]
  },
  {
   "cell_type": "markdown",
   "metadata": {},
   "source": [
    "## Dealing With Null Values"
   ]
  },
  {
   "cell_type": "code",
   "execution_count": 47,
   "metadata": {},
   "outputs": [
    {
     "data": {
      "text/plain": [
       "Unnamed: 0            0\n",
       "JobTitle              0\n",
       "SalaryEstimate        0\n",
       "JobDescription        0\n",
       "Rating              272\n",
       "CompanyName           1\n",
       "Location              0\n",
       "Headquarters        172\n",
       "Size                163\n",
       "Founded             660\n",
       "TypeOfOwnership     163\n",
       "Industry            353\n",
       "Sector              353\n",
       "Revenue             163\n",
       "Competitors        1731\n",
       "EasyApply             0\n",
       "dtype: int64"
      ]
     },
     "execution_count": 47,
     "metadata": {},
     "output_type": "execute_result"
    }
   ],
   "source": [
    "#df.drop('result', axis=1, inplace=True)\n",
    "df.iloc[:, :16].isna().sum()"
   ]
  },
  {
   "cell_type": "markdown",
   "metadata": {},
   "source": [
    "### Removing Uninformative Columns"
   ]
  },
  {
   "cell_type": "code",
   "execution_count": 48,
   "metadata": {},
   "outputs": [
    {
     "data": {
      "text/plain": [
       "Index(['JobTitle', 'JobDescription', 'Rating', 'CompanyName', 'Location',\n",
       "       'Industry', 'Sector', 'Revenue', 'EasyApply', 'LowerEndSalary',\n",
       "       'UpperEndSalary', 'AvgSalary', 'python', 'sql', 'nosql', 'excel', 'r',\n",
       "       'data visualization', 'machine learning', 'data cleaning', 'matlab',\n",
       "       'tableau', 'data warehousing', 'critical thinking', 'communication',\n",
       "       'problem solving', 'collaboration'],\n",
       "      dtype='object')"
      ]
     },
     "execution_count": 48,
     "metadata": {},
     "output_type": "execute_result"
    }
   ],
   "source": [
    "not_required = [\"Headquarters\", \"Size\", \"Founded\", \"TypeOfOwnership\", \n",
    "                \"Competitors\", \"Unnamed: 0\", 'salaries_parsed', 'SalaryEstimate']\n",
    "df.drop(not_required, axis=1, inplace=True)\n",
    "df.columns"
   ]
  },
  {
   "cell_type": "markdown",
   "metadata": {},
   "source": [
    "### Making Datatypes uniform (respective to each column)"
   ]
  },
  {
   "cell_type": "code",
   "execution_count": 49,
   "metadata": {},
   "outputs": [
    {
     "data": {
      "text/plain": [
       "JobTitle               object\n",
       "JobDescription         object\n",
       "Rating                float64\n",
       "CompanyName            object\n",
       "Location               object\n",
       "Industry               object\n",
       "Sector                 object\n",
       "Revenue                object\n",
       "EasyApply              object\n",
       "LowerEndSalary        float64\n",
       "UpperEndSalary        float64\n",
       "AvgSalary             float64\n",
       "python                  int64\n",
       "sql                     int64\n",
       "nosql                   int64\n",
       "excel                   int64\n",
       "r                       int64\n",
       "data visualization      int64\n",
       "machine learning        int64\n",
       "data cleaning           int64\n",
       "matlab                  int64\n",
       "tableau                 int64\n",
       "data warehousing        int64\n",
       "critical thinking       int64\n",
       "communication           int64\n",
       "problem solving         int64\n",
       "collaboration           int64\n",
       "dtype: object"
      ]
     },
     "execution_count": 49,
     "metadata": {},
     "output_type": "execute_result"
    }
   ],
   "source": [
    "df.dtypes"
   ]
  },
  {
   "cell_type": "code",
   "execution_count": 50,
   "metadata": {},
   "outputs": [
    {
     "data": {
      "text/html": [
       "<div>\n",
       "<style scoped>\n",
       "    .dataframe tbody tr th:only-of-type {\n",
       "        vertical-align: middle;\n",
       "    }\n",
       "\n",
       "    .dataframe tbody tr th {\n",
       "        vertical-align: top;\n",
       "    }\n",
       "\n",
       "    .dataframe thead th {\n",
       "        text-align: right;\n",
       "    }\n",
       "</style>\n",
       "<table border=\"1\" class=\"dataframe\">\n",
       "  <thead>\n",
       "    <tr style=\"text-align: right;\">\n",
       "      <th></th>\n",
       "      <th>JobTitle</th>\n",
       "      <th>JobDescription</th>\n",
       "      <th>Rating</th>\n",
       "      <th>CompanyName</th>\n",
       "      <th>Location</th>\n",
       "      <th>Industry</th>\n",
       "      <th>Sector</th>\n",
       "      <th>Revenue</th>\n",
       "      <th>EasyApply</th>\n",
       "      <th>LowerEndSalary</th>\n",
       "      <th>...</th>\n",
       "      <th>data visualization</th>\n",
       "      <th>machine learning</th>\n",
       "      <th>data cleaning</th>\n",
       "      <th>matlab</th>\n",
       "      <th>tableau</th>\n",
       "      <th>data warehousing</th>\n",
       "      <th>critical thinking</th>\n",
       "      <th>communication</th>\n",
       "      <th>problem solving</th>\n",
       "      <th>collaboration</th>\n",
       "    </tr>\n",
       "  </thead>\n",
       "  <tbody>\n",
       "    <tr>\n",
       "      <th>0</th>\n",
       "      <td>Data Analyst, Center on Immigration and Justic...</td>\n",
       "      <td>Are you eager to roll up your sleeves and harn...</td>\n",
       "      <td>3.2</td>\n",
       "      <td>Vera Institute of Justice</td>\n",
       "      <td>New York, NY</td>\n",
       "      <td>Social Assistance</td>\n",
       "      <td>Non-Profit</td>\n",
       "      <td>$100 to $500 million (USD)</td>\n",
       "      <td>TRUE</td>\n",
       "      <td>37.0</td>\n",
       "      <td>...</td>\n",
       "      <td>0</td>\n",
       "      <td>0</td>\n",
       "      <td>0</td>\n",
       "      <td>0</td>\n",
       "      <td>0</td>\n",
       "      <td>0</td>\n",
       "      <td>0</td>\n",
       "      <td>0</td>\n",
       "      <td>0</td>\n",
       "      <td>1</td>\n",
       "    </tr>\n",
       "    <tr>\n",
       "      <th>1</th>\n",
       "      <td>Quality Data Analyst</td>\n",
       "      <td>Overview\\n\\nProvides analytical and technical ...</td>\n",
       "      <td>3.8</td>\n",
       "      <td>Visiting Nurse Service of New York</td>\n",
       "      <td>New York, NY</td>\n",
       "      <td>Health Care Services &amp; Hospitals</td>\n",
       "      <td>Health Care</td>\n",
       "      <td>$2 to $5 billion (USD)</td>\n",
       "      <td>FALSE</td>\n",
       "      <td>37.0</td>\n",
       "      <td>...</td>\n",
       "      <td>0</td>\n",
       "      <td>0</td>\n",
       "      <td>0</td>\n",
       "      <td>0</td>\n",
       "      <td>0</td>\n",
       "      <td>0</td>\n",
       "      <td>0</td>\n",
       "      <td>1</td>\n",
       "      <td>0</td>\n",
       "      <td>0</td>\n",
       "    </tr>\n",
       "    <tr>\n",
       "      <th>2</th>\n",
       "      <td>Senior Data Analyst, Insights &amp; Analytics Team...</td>\n",
       "      <td>We’re looking for a Senior Data Analyst who ha...</td>\n",
       "      <td>3.4</td>\n",
       "      <td>Squarespace</td>\n",
       "      <td>New York, NY</td>\n",
       "      <td>Internet</td>\n",
       "      <td>Information Technology</td>\n",
       "      <td>Unknown / Non-Applicable</td>\n",
       "      <td>FALSE</td>\n",
       "      <td>37.0</td>\n",
       "      <td>...</td>\n",
       "      <td>0</td>\n",
       "      <td>0</td>\n",
       "      <td>0</td>\n",
       "      <td>0</td>\n",
       "      <td>1</td>\n",
       "      <td>0</td>\n",
       "      <td>0</td>\n",
       "      <td>0</td>\n",
       "      <td>0</td>\n",
       "      <td>0</td>\n",
       "    </tr>\n",
       "    <tr>\n",
       "      <th>3</th>\n",
       "      <td>Data Analyst</td>\n",
       "      <td>Requisition NumberRR-0001939\\nRemote:Yes\\nWe c...</td>\n",
       "      <td>4.1</td>\n",
       "      <td>Celerity</td>\n",
       "      <td>New York, NY</td>\n",
       "      <td>IT Services</td>\n",
       "      <td>Information Technology</td>\n",
       "      <td>$50 to $100 million (USD)</td>\n",
       "      <td>FALSE</td>\n",
       "      <td>37.0</td>\n",
       "      <td>...</td>\n",
       "      <td>0</td>\n",
       "      <td>0</td>\n",
       "      <td>0</td>\n",
       "      <td>0</td>\n",
       "      <td>1</td>\n",
       "      <td>0</td>\n",
       "      <td>0</td>\n",
       "      <td>1</td>\n",
       "      <td>0</td>\n",
       "      <td>1</td>\n",
       "    </tr>\n",
       "    <tr>\n",
       "      <th>4</th>\n",
       "      <td>Reporting Data Analyst</td>\n",
       "      <td>ABOUT FANDUEL GROUP\\n\\nFanDuel Group is a worl...</td>\n",
       "      <td>3.9</td>\n",
       "      <td>FanDuel</td>\n",
       "      <td>New York, NY</td>\n",
       "      <td>Sports &amp; Recreation</td>\n",
       "      <td>Arts, Entertainment &amp; Recreation</td>\n",
       "      <td>$100 to $500 million (USD)</td>\n",
       "      <td>TRUE</td>\n",
       "      <td>37.0</td>\n",
       "      <td>...</td>\n",
       "      <td>0</td>\n",
       "      <td>0</td>\n",
       "      <td>0</td>\n",
       "      <td>0</td>\n",
       "      <td>0</td>\n",
       "      <td>0</td>\n",
       "      <td>0</td>\n",
       "      <td>0</td>\n",
       "      <td>0</td>\n",
       "      <td>0</td>\n",
       "    </tr>\n",
       "  </tbody>\n",
       "</table>\n",
       "<p>5 rows × 27 columns</p>\n",
       "</div>"
      ],
      "text/plain": [
       "                                            JobTitle  \\\n",
       "0  Data Analyst, Center on Immigration and Justic...   \n",
       "1                               Quality Data Analyst   \n",
       "2  Senior Data Analyst, Insights & Analytics Team...   \n",
       "3                                       Data Analyst   \n",
       "4                             Reporting Data Analyst   \n",
       "\n",
       "                                      JobDescription  Rating  \\\n",
       "0  Are you eager to roll up your sleeves and harn...     3.2   \n",
       "1  Overview\\n\\nProvides analytical and technical ...     3.8   \n",
       "2  We’re looking for a Senior Data Analyst who ha...     3.4   \n",
       "3  Requisition NumberRR-0001939\\nRemote:Yes\\nWe c...     4.1   \n",
       "4  ABOUT FANDUEL GROUP\\n\\nFanDuel Group is a worl...     3.9   \n",
       "\n",
       "                          CompanyName      Location  \\\n",
       "0           Vera Institute of Justice  New York, NY   \n",
       "1  Visiting Nurse Service of New York  New York, NY   \n",
       "2                         Squarespace  New York, NY   \n",
       "3                            Celerity  New York, NY   \n",
       "4                             FanDuel  New York, NY   \n",
       "\n",
       "                           Industry                            Sector  \\\n",
       "0                 Social Assistance                        Non-Profit   \n",
       "1  Health Care Services & Hospitals                       Health Care   \n",
       "2                          Internet            Information Technology   \n",
       "3                       IT Services            Information Technology   \n",
       "4               Sports & Recreation  Arts, Entertainment & Recreation   \n",
       "\n",
       "                      Revenue EasyApply  LowerEndSalary  ...  \\\n",
       "0  $100 to $500 million (USD)      TRUE            37.0  ...   \n",
       "1      $2 to $5 billion (USD)     FALSE            37.0  ...   \n",
       "2    Unknown / Non-Applicable     FALSE            37.0  ...   \n",
       "3   $50 to $100 million (USD)     FALSE            37.0  ...   \n",
       "4  $100 to $500 million (USD)      TRUE            37.0  ...   \n",
       "\n",
       "   data visualization  machine learning  data cleaning  matlab  tableau  \\\n",
       "0                   0                 0              0       0        0   \n",
       "1                   0                 0              0       0        0   \n",
       "2                   0                 0              0       0        1   \n",
       "3                   0                 0              0       0        1   \n",
       "4                   0                 0              0       0        0   \n",
       "\n",
       "   data warehousing  critical thinking  communication  problem solving  \\\n",
       "0                 0                  0              0                0   \n",
       "1                 0                  0              1                0   \n",
       "2                 0                  0              0                0   \n",
       "3                 0                  0              1                0   \n",
       "4                 0                  0              0                0   \n",
       "\n",
       "   collaboration  \n",
       "0              1  \n",
       "1              0  \n",
       "2              0  \n",
       "3              1  \n",
       "4              0  \n",
       "\n",
       "[5 rows x 27 columns]"
      ]
     },
     "execution_count": 50,
     "metadata": {},
     "output_type": "execute_result"
    }
   ],
   "source": [
    "df.head()"
   ]
  },
  {
   "cell_type": "code",
   "execution_count": 51,
   "metadata": {},
   "outputs": [],
   "source": [
    "string_columns = ['JobTitle', \"JobDescription\", \"CompanyName\", \n",
    "                  \"Location\", \"Industry\", \"Sector\", \"Revenue\", \"EasyApply\"]\n",
    "\n",
    "def fix_type():\n",
    "    type_dict = {}\n",
    "    for col in string_columns:\n",
    "        type_dict[col] = \"string\"\n",
    "    return type_dict\n",
    "\n",
    "df = df.astype(fix_type())\n",
    "    "
   ]
  },
  {
   "cell_type": "code",
   "execution_count": 52,
   "metadata": {},
   "outputs": [
    {
     "data": {
      "text/plain": [
       "JobTitle               string\n",
       "JobDescription         string\n",
       "Rating                float64\n",
       "CompanyName            string\n",
       "Location               string\n",
       "Industry               string\n",
       "Sector                 string\n",
       "Revenue                string\n",
       "EasyApply              string\n",
       "LowerEndSalary        float64\n",
       "UpperEndSalary        float64\n",
       "AvgSalary             float64\n",
       "python                  int64\n",
       "sql                     int64\n",
       "nosql                   int64\n",
       "excel                   int64\n",
       "r                       int64\n",
       "data visualization      int64\n",
       "machine learning        int64\n",
       "data cleaning           int64\n",
       "matlab                  int64\n",
       "tableau                 int64\n",
       "data warehousing        int64\n",
       "critical thinking       int64\n",
       "communication           int64\n",
       "problem solving         int64\n",
       "collaboration           int64\n",
       "dtype: object"
      ]
     },
     "execution_count": 52,
     "metadata": {},
     "output_type": "execute_result"
    }
   ],
   "source": [
    "df.dtypes"
   ]
  },
  {
   "cell_type": "markdown",
   "metadata": {},
   "source": [
    "# Identifying Position Requirements"
   ]
  },
  {
   "cell_type": "markdown",
   "metadata": {},
   "source": [
    "### Job Titles"
   ]
  },
  {
   "cell_type": "code",
   "execution_count": 53,
   "metadata": {},
   "outputs": [
    {
     "data": {
      "text/plain": [
       "Data Analyst               405\n",
       "Senior Data Analyst        131\n",
       "Junior Data Analyst         64\n",
       "Business Data Analyst       28\n",
       "Data Quality Analyst        17\n",
       "Data Governance Analyst     16\n",
       "Lead Data Analyst           15\n",
       "Data Reporting Analyst      13\n",
       "Financial Data Analyst      12\n",
       "Data Analyst I              11\n",
       "Name: JobTitle, dtype: Int64"
      ]
     },
     "execution_count": 53,
     "metadata": {},
     "output_type": "execute_result"
    }
   ],
   "source": [
    "df['JobTitle'].value_counts()[:10]"
   ]
  },
  {
   "cell_type": "code",
   "execution_count": 54,
   "metadata": {},
   "outputs": [
    {
     "data": {
      "text/plain": [
       "2252"
      ]
     },
     "execution_count": 54,
     "metadata": {},
     "output_type": "execute_result"
    }
   ],
   "source": [
    "df.shape[0]"
   ]
  },
  {
   "cell_type": "markdown",
   "metadata": {},
   "source": [
    "### Job Requirements"
   ]
  },
  {
   "cell_type": "code",
   "execution_count": 55,
   "metadata": {},
   "outputs": [],
   "source": [
    "job_requirements = technical_skills + soft_skills\n",
    "freq_requirements = [df[skill].sum() for skill in job_requirements]\n",
    "prop_requirements = [skill / df.shape[0] for skill in freq_requirements]"
   ]
  },
  {
   "cell_type": "code",
   "execution_count": 56,
   "metadata": {},
   "outputs": [
    {
     "data": {
      "text/html": [
       "<div>\n",
       "<style scoped>\n",
       "    .dataframe tbody tr th:only-of-type {\n",
       "        vertical-align: middle;\n",
       "    }\n",
       "\n",
       "    .dataframe tbody tr th {\n",
       "        vertical-align: top;\n",
       "    }\n",
       "\n",
       "    .dataframe thead th {\n",
       "        text-align: right;\n",
       "    }\n",
       "</style>\n",
       "<table border=\"1\" class=\"dataframe\">\n",
       "  <thead>\n",
       "    <tr style=\"text-align: right;\">\n",
       "      <th></th>\n",
       "      <th>skills</th>\n",
       "      <th>freq</th>\n",
       "      <th>percentage</th>\n",
       "    </tr>\n",
       "  </thead>\n",
       "  <tbody>\n",
       "    <tr>\n",
       "      <th>5</th>\n",
       "      <td>data visualization</td>\n",
       "      <td>0</td>\n",
       "      <td>0.000000</td>\n",
       "    </tr>\n",
       "    <tr>\n",
       "      <th>6</th>\n",
       "      <td>machine learning</td>\n",
       "      <td>0</td>\n",
       "      <td>0.000000</td>\n",
       "    </tr>\n",
       "    <tr>\n",
       "      <th>7</th>\n",
       "      <td>data cleaning</td>\n",
       "      <td>0</td>\n",
       "      <td>0.000000</td>\n",
       "    </tr>\n",
       "    <tr>\n",
       "      <th>10</th>\n",
       "      <td>data warehousing</td>\n",
       "      <td>0</td>\n",
       "      <td>0.000000</td>\n",
       "    </tr>\n",
       "    <tr>\n",
       "      <th>11</th>\n",
       "      <td>critical thinking</td>\n",
       "      <td>0</td>\n",
       "      <td>0.000000</td>\n",
       "    </tr>\n",
       "    <tr>\n",
       "      <th>13</th>\n",
       "      <td>problem solving</td>\n",
       "      <td>0</td>\n",
       "      <td>0.000000</td>\n",
       "    </tr>\n",
       "    <tr>\n",
       "      <th>8</th>\n",
       "      <td>matlab</td>\n",
       "      <td>24</td>\n",
       "      <td>0.010657</td>\n",
       "    </tr>\n",
       "    <tr>\n",
       "      <th>2</th>\n",
       "      <td>nosql</td>\n",
       "      <td>28</td>\n",
       "      <td>0.012433</td>\n",
       "    </tr>\n",
       "    <tr>\n",
       "      <th>14</th>\n",
       "      <td>collaboration</td>\n",
       "      <td>230</td>\n",
       "      <td>0.102131</td>\n",
       "    </tr>\n",
       "    <tr>\n",
       "      <th>4</th>\n",
       "      <td>r</td>\n",
       "      <td>389</td>\n",
       "      <td>0.172735</td>\n",
       "    </tr>\n",
       "    <tr>\n",
       "      <th>9</th>\n",
       "      <td>tableau</td>\n",
       "      <td>595</td>\n",
       "      <td>0.264210</td>\n",
       "    </tr>\n",
       "    <tr>\n",
       "      <th>0</th>\n",
       "      <td>python</td>\n",
       "      <td>598</td>\n",
       "      <td>0.265542</td>\n",
       "    </tr>\n",
       "    <tr>\n",
       "      <th>3</th>\n",
       "      <td>excel</td>\n",
       "      <td>889</td>\n",
       "      <td>0.394760</td>\n",
       "    </tr>\n",
       "    <tr>\n",
       "      <th>12</th>\n",
       "      <td>communication</td>\n",
       "      <td>1053</td>\n",
       "      <td>0.467584</td>\n",
       "    </tr>\n",
       "    <tr>\n",
       "      <th>1</th>\n",
       "      <td>sql</td>\n",
       "      <td>1318</td>\n",
       "      <td>0.585258</td>\n",
       "    </tr>\n",
       "  </tbody>\n",
       "</table>\n",
       "</div>"
      ],
      "text/plain": [
       "                skills  freq  percentage\n",
       "5   data visualization     0    0.000000\n",
       "6     machine learning     0    0.000000\n",
       "7        data cleaning     0    0.000000\n",
       "10    data warehousing     0    0.000000\n",
       "11   critical thinking     0    0.000000\n",
       "13     problem solving     0    0.000000\n",
       "8               matlab    24    0.010657\n",
       "2                nosql    28    0.012433\n",
       "14       collaboration   230    0.102131\n",
       "4                    r   389    0.172735\n",
       "9              tableau   595    0.264210\n",
       "0               python   598    0.265542\n",
       "3                excel   889    0.394760\n",
       "12       communication  1053    0.467584\n",
       "1                  sql  1318    0.585258"
      ]
     },
     "execution_count": 56,
     "metadata": {},
     "output_type": "execute_result"
    }
   ],
   "source": [
    "skills_df = pd.DataFrame(\n",
    "    {'skills': job_requirements, 'freq': freq_requirements,\n",
    "     'percentage': prop_requirements})\n",
    "skills_df.sort_values(by=['freq'], ascending=True, inplace=True)\n",
    "skills_df"
   ]
  },
  {
   "cell_type": "code",
   "execution_count": 57,
   "metadata": {},
   "outputs": [
    {
     "data": {
      "text/plain": [
       "<AxesSubplot:ylabel='skills'>"
      ]
     },
     "execution_count": 57,
     "metadata": {},
     "output_type": "execute_result"
    },
    {
     "data": {
      "image/png": "[encoded data removed]",
      "text/plain": [
       "<Figure size 432x288 with 1 Axes>"
      ]
     },
     "metadata": {
      "needs_background": "light"
     },
     "output_type": "display_data"
    }
   ],
   "source": [
    "skills_df = skills_df.loc[skills_df['freq'] > 0]\n",
    "skills_df.plot.barh(x='skills', y='freq')"
   ]
  },
  {
   "cell_type": "code",
   "execution_count": 58,
   "metadata": {},
   "outputs": [
    {
     "data": {
      "text/plain": [
       "<AxesSubplot:ylabel='skills'>"
      ]
     },
     "execution_count": 58,
     "metadata": {},
     "output_type": "execute_result"
    },
    {
     "data": {
      "image/png": "[encoded data removed]",
      "text/plain": [
       "<Figure size 432x288 with 1 Axes>"
      ]
     },
     "metadata": {
      "needs_background": "light"
     },
     "output_type": "display_data"
    }
   ],
   "source": [
    "skills_df.plot.barh(x='skills', y='percentage')"
   ]
  },
  {
   "cell_type": "markdown",
   "metadata": {},
   "source": [
    "### Required Programming Languages & Program Skills by Job Title (DataFrame)"
   ]
  },
  {
   "cell_type": "code",
   "execution_count": 59,
   "metadata": {},
   "outputs": [
    {
     "data": {
      "text/plain": [
       "Index(['JobTitle', 'JobDescription', 'Rating', 'CompanyName', 'Location',\n",
       "       'Industry', 'Sector', 'Revenue', 'EasyApply', 'LowerEndSalary',\n",
       "       'UpperEndSalary', 'AvgSalary', 'python', 'sql', 'nosql', 'excel', 'r',\n",
       "       'data visualization', 'machine learning', 'data cleaning', 'matlab',\n",
       "       'tableau', 'data warehousing', 'critical thinking', 'communication',\n",
       "       'problem solving', 'collaboration'],\n",
       "      dtype='object')"
      ]
     },
     "execution_count": 59,
     "metadata": {},
     "output_type": "execute_result"
    }
   ],
   "source": [
    "df.columns"
   ]
  },
  {
   "cell_type": "code",
   "execution_count": 60,
   "metadata": {},
   "outputs": [
    {
     "data": {
      "text/plain": [
       "['JobTitle',\n",
       " 'matlab',\n",
       " 'nosql',\n",
       " 'collaboration',\n",
       " 'r',\n",
       " 'tableau',\n",
       " 'python',\n",
       " 'excel',\n",
       " 'communication',\n",
       " 'sql']"
      ]
     },
     "execution_count": 60,
     "metadata": {},
     "output_type": "execute_result"
    }
   ],
   "source": [
    "columns_desired = ['JobTitle'] + list(skills_df['skills'].values)\n",
    "columns_desired"
   ]
  },
  {
   "cell_type": "code",
   "execution_count": 61,
   "metadata": {},
   "outputs": [
    {
     "data": {
      "text/plain": [
       "['sql',\n",
       " 'communication',\n",
       " 'excel',\n",
       " 'python',\n",
       " 'tableau',\n",
       " 'r',\n",
       " 'collaboration',\n",
       " 'nosql',\n",
       " 'matlab']"
      ]
     },
     "execution_count": 61,
     "metadata": {},
     "output_type": "execute_result"
    }
   ],
   "source": [
    "list(reversed(list(skills_df['skills'].values)))"
   ]
  },
  {
   "cell_type": "code",
   "execution_count": 62,
   "metadata": {},
   "outputs": [
    {
     "data": {
      "text/plain": [
       "Data Analyst                                                      405\n",
       "Senior Data Analyst                                               131\n",
       "Junior Data Analyst                                                64\n",
       "Business Data Analyst                                              28\n",
       "Data Quality Analyst                                               17\n",
       "                                                                 ... \n",
       "Functional Analyst (CECL Data)                                      1\n",
       "Senior Business Intelligence Data Analyst                           1\n",
       "Big Data Quality Analyst/Hadoop Testing analyst/ Hadoop Tester      1\n",
       "Senior data analyst                                                 1\n",
       "Data Science Sr. Analyst                                            1\n",
       "Name: JobTitle, Length: 1266, dtype: Int64"
      ]
     },
     "execution_count": 62,
     "metadata": {},
     "output_type": "execute_result"
    }
   ],
   "source": [
    "grouped = df['JobTitle'].value_counts()\n",
    "grouped"
   ]
  },
  {
   "cell_type": "code",
   "execution_count": 63,
   "metadata": {},
   "outputs": [
    {
     "data": {
      "text/html": [
       "<div>\n",
       "<style scoped>\n",
       "    .dataframe tbody tr th:only-of-type {\n",
       "        vertical-align: middle;\n",
       "    }\n",
       "\n",
       "    .dataframe tbody tr th {\n",
       "        vertical-align: top;\n",
       "    }\n",
       "\n",
       "    .dataframe thead th {\n",
       "        text-align: right;\n",
       "    }\n",
       "</style>\n",
       "<table border=\"1\" class=\"dataframe\">\n",
       "  <thead>\n",
       "    <tr style=\"text-align: right;\">\n",
       "      <th></th>\n",
       "      <th>#_of_openings</th>\n",
       "      <th>sql</th>\n",
       "      <th>communication</th>\n",
       "      <th>excel</th>\n",
       "      <th>python</th>\n",
       "      <th>tableau</th>\n",
       "      <th>r</th>\n",
       "      <th>collaboration</th>\n",
       "      <th>nosql</th>\n",
       "      <th>matlab</th>\n",
       "    </tr>\n",
       "  </thead>\n",
       "  <tbody>\n",
       "    <tr>\n",
       "      <th>Data Analyst</th>\n",
       "      <td>405</td>\n",
       "      <td>295</td>\n",
       "      <td>177</td>\n",
       "      <td>160</td>\n",
       "      <td>118</td>\n",
       "      <td>106</td>\n",
       "      <td>79</td>\n",
       "      <td>45</td>\n",
       "      <td>8</td>\n",
       "      <td>3</td>\n",
       "    </tr>\n",
       "    <tr>\n",
       "      <th>Senior Data Analyst</th>\n",
       "      <td>131</td>\n",
       "      <td>110</td>\n",
       "      <td>63</td>\n",
       "      <td>50</td>\n",
       "      <td>66</td>\n",
       "      <td>63</td>\n",
       "      <td>42</td>\n",
       "      <td>9</td>\n",
       "      <td>2</td>\n",
       "      <td>4</td>\n",
       "    </tr>\n",
       "    <tr>\n",
       "      <th>Junior Data Analyst</th>\n",
       "      <td>64</td>\n",
       "      <td>51</td>\n",
       "      <td>15</td>\n",
       "      <td>52</td>\n",
       "      <td>7</td>\n",
       "      <td>9</td>\n",
       "      <td>4</td>\n",
       "      <td>4</td>\n",
       "      <td>1</td>\n",
       "      <td>0</td>\n",
       "    </tr>\n",
       "    <tr>\n",
       "      <th>Business Data Analyst</th>\n",
       "      <td>28</td>\n",
       "      <td>20</td>\n",
       "      <td>21</td>\n",
       "      <td>13</td>\n",
       "      <td>9</td>\n",
       "      <td>10</td>\n",
       "      <td>3</td>\n",
       "      <td>2</td>\n",
       "      <td>0</td>\n",
       "      <td>0</td>\n",
       "    </tr>\n",
       "    <tr>\n",
       "      <th>Data Quality Analyst</th>\n",
       "      <td>17</td>\n",
       "      <td>5</td>\n",
       "      <td>6</td>\n",
       "      <td>5</td>\n",
       "      <td>0</td>\n",
       "      <td>4</td>\n",
       "      <td>0</td>\n",
       "      <td>2</td>\n",
       "      <td>0</td>\n",
       "      <td>0</td>\n",
       "    </tr>\n",
       "    <tr>\n",
       "      <th>Data Governance Analyst</th>\n",
       "      <td>16</td>\n",
       "      <td>6</td>\n",
       "      <td>13</td>\n",
       "      <td>7</td>\n",
       "      <td>1</td>\n",
       "      <td>2</td>\n",
       "      <td>0</td>\n",
       "      <td>0</td>\n",
       "      <td>0</td>\n",
       "      <td>0</td>\n",
       "    </tr>\n",
       "    <tr>\n",
       "      <th>Lead Data Analyst</th>\n",
       "      <td>15</td>\n",
       "      <td>13</td>\n",
       "      <td>6</td>\n",
       "      <td>3</td>\n",
       "      <td>5</td>\n",
       "      <td>10</td>\n",
       "      <td>1</td>\n",
       "      <td>3</td>\n",
       "      <td>1</td>\n",
       "      <td>0</td>\n",
       "    </tr>\n",
       "    <tr>\n",
       "      <th>Data Reporting Analyst</th>\n",
       "      <td>13</td>\n",
       "      <td>9</td>\n",
       "      <td>4</td>\n",
       "      <td>7</td>\n",
       "      <td>3</td>\n",
       "      <td>4</td>\n",
       "      <td>1</td>\n",
       "      <td>1</td>\n",
       "      <td>0</td>\n",
       "      <td>0</td>\n",
       "    </tr>\n",
       "    <tr>\n",
       "      <th>Financial Data Analyst</th>\n",
       "      <td>12</td>\n",
       "      <td>8</td>\n",
       "      <td>4</td>\n",
       "      <td>9</td>\n",
       "      <td>2</td>\n",
       "      <td>2</td>\n",
       "      <td>1</td>\n",
       "      <td>0</td>\n",
       "      <td>0</td>\n",
       "      <td>0</td>\n",
       "    </tr>\n",
       "    <tr>\n",
       "      <th>Data Analyst I</th>\n",
       "      <td>11</td>\n",
       "      <td>1</td>\n",
       "      <td>5</td>\n",
       "      <td>8</td>\n",
       "      <td>0</td>\n",
       "      <td>2</td>\n",
       "      <td>0</td>\n",
       "      <td>1</td>\n",
       "      <td>0</td>\n",
       "      <td>0</td>\n",
       "    </tr>\n",
       "    <tr>\n",
       "      <th>Marketing Data Analyst</th>\n",
       "      <td>9</td>\n",
       "      <td>8</td>\n",
       "      <td>5</td>\n",
       "      <td>5</td>\n",
       "      <td>5</td>\n",
       "      <td>4</td>\n",
       "      <td>4</td>\n",
       "      <td>0</td>\n",
       "      <td>0</td>\n",
       "      <td>0</td>\n",
       "    </tr>\n",
       "    <tr>\n",
       "      <th>Data Warehouse Analyst</th>\n",
       "      <td>8</td>\n",
       "      <td>1</td>\n",
       "      <td>6</td>\n",
       "      <td>1</td>\n",
       "      <td>1</td>\n",
       "      <td>2</td>\n",
       "      <td>0</td>\n",
       "      <td>1</td>\n",
       "      <td>0</td>\n",
       "      <td>0</td>\n",
       "    </tr>\n",
       "    <tr>\n",
       "      <th>Data Management Analyst</th>\n",
       "      <td>8</td>\n",
       "      <td>3</td>\n",
       "      <td>6</td>\n",
       "      <td>5</td>\n",
       "      <td>0</td>\n",
       "      <td>1</td>\n",
       "      <td>0</td>\n",
       "      <td>0</td>\n",
       "      <td>0</td>\n",
       "      <td>0</td>\n",
       "    </tr>\n",
       "    <tr>\n",
       "      <th>SQL Data Analyst</th>\n",
       "      <td>7</td>\n",
       "      <td>7</td>\n",
       "      <td>2</td>\n",
       "      <td>0</td>\n",
       "      <td>0</td>\n",
       "      <td>2</td>\n",
       "      <td>0</td>\n",
       "      <td>0</td>\n",
       "      <td>0</td>\n",
       "      <td>0</td>\n",
       "    </tr>\n",
       "    <tr>\n",
       "      <th>Technical Data Analyst</th>\n",
       "      <td>7</td>\n",
       "      <td>7</td>\n",
       "      <td>3</td>\n",
       "      <td>2</td>\n",
       "      <td>2</td>\n",
       "      <td>2</td>\n",
       "      <td>0</td>\n",
       "      <td>1</td>\n",
       "      <td>0</td>\n",
       "      <td>0</td>\n",
       "    </tr>\n",
       "  </tbody>\n",
       "</table>\n",
       "</div>"
      ],
      "text/plain": [
       "                         #_of_openings  sql  communication  excel  python  \\\n",
       "Data Analyst                       405  295            177    160     118   \n",
       "Senior Data Analyst                131  110             63     50      66   \n",
       "Junior Data Analyst                 64   51             15     52       7   \n",
       "Business Data Analyst               28   20             21     13       9   \n",
       "Data Quality Analyst                17    5              6      5       0   \n",
       "Data Governance Analyst             16    6             13      7       1   \n",
       "Lead Data Analyst                   15   13              6      3       5   \n",
       "Data Reporting Analyst              13    9              4      7       3   \n",
       "Financial Data Analyst              12    8              4      9       2   \n",
       "Data Analyst I                      11    1              5      8       0   \n",
       "Marketing Data Analyst               9    8              5      5       5   \n",
       "Data Warehouse Analyst               8    1              6      1       1   \n",
       "Data Management Analyst              8    3              6      5       0   \n",
       "SQL Data Analyst                     7    7              2      0       0   \n",
       "Technical Data Analyst               7    7              3      2       2   \n",
       "\n",
       "                         tableau   r  collaboration  nosql  matlab  \n",
       "Data Analyst                 106  79             45      8       3  \n",
       "Senior Data Analyst           63  42              9      2       4  \n",
       "Junior Data Analyst            9   4              4      1       0  \n",
       "Business Data Analyst         10   3              2      0       0  \n",
       "Data Quality Analyst           4   0              2      0       0  \n",
       "Data Governance Analyst        2   0              0      0       0  \n",
       "Lead Data Analyst             10   1              3      1       0  \n",
       "Data Reporting Analyst         4   1              1      0       0  \n",
       "Financial Data Analyst         2   1              0      0       0  \n",
       "Data Analyst I                 2   0              1      0       0  \n",
       "Marketing Data Analyst         4   4              0      0       0  \n",
       "Data Warehouse Analyst         2   0              1      0       0  \n",
       "Data Management Analyst        1   0              0      0       0  \n",
       "SQL Data Analyst               2   0              0      0       0  \n",
       "Technical Data Analyst         2   0              1      0       0  "
      ]
     },
     "execution_count": 63,
     "metadata": {},
     "output_type": "execute_result"
    }
   ],
   "source": [
    "columns_desired = ['JobTitle'] + list(reversed(list(skills_df['skills'].values)))\n",
    "counts = df['JobTitle'].value_counts().to_frame()\n",
    "grouped = df.groupby('JobTitle').sum().sort_values(\n",
    "    by='sql', ascending=False)[list(reversed(list(\n",
    "    skills_df['skills'].values)))]\n",
    "together = counts.join(grouped).rename(columns={'JobTitle': '#_of_openings'}).head(15)\n",
    "together"
   ]
  },
  {
   "cell_type": "code",
   "execution_count": 64,
   "metadata": {},
   "outputs": [
    {
     "data": {
      "text/plain": [
       "'\\nsns.barplot(x=\"proportion\", y=\"jobtitle\", hue=\"skills\", \\n            data=grouped,\\n           orient=\"h\")'"
      ]
     },
     "execution_count": 64,
     "metadata": {},
     "output_type": "execute_result"
    }
   ],
   "source": [
    "\"\"\"\n",
    "sns.barplot(x=\"proportion\", y=\"jobtitle\", hue=\"skills\", \n",
    "            data=grouped,\n",
    "           orient=\"h\")\"\"\""
   ]
  },
  {
   "cell_type": "markdown",
   "metadata": {},
   "source": [
    "### Most Desired Skill by JobTitle"
   ]
  },
  {
   "cell_type": "markdown",
   "metadata": {},
   "source": [
    "### Correlation Between Skills Required and Salary"
   ]
  },
  {
   "cell_type": "code",
   "execution_count": 65,
   "metadata": {},
   "outputs": [
    {
     "data": {
      "text/html": [
       "<div>\n",
       "<style scoped>\n",
       "    .dataframe tbody tr th:only-of-type {\n",
       "        vertical-align: middle;\n",
       "    }\n",
       "\n",
       "    .dataframe tbody tr th {\n",
       "        vertical-align: top;\n",
       "    }\n",
       "\n",
       "    .dataframe thead th {\n",
       "        text-align: right;\n",
       "    }\n",
       "</style>\n",
       "<table border=\"1\" class=\"dataframe\">\n",
       "  <thead>\n",
       "    <tr style=\"text-align: right;\">\n",
       "      <th></th>\n",
       "      <th>#_of_skills</th>\n",
       "    </tr>\n",
       "  </thead>\n",
       "  <tbody>\n",
       "    <tr>\n",
       "      <th>0</th>\n",
       "      <td>3</td>\n",
       "    </tr>\n",
       "    <tr>\n",
       "      <th>1</th>\n",
       "      <td>3</td>\n",
       "    </tr>\n",
       "    <tr>\n",
       "      <th>2</th>\n",
       "      <td>3</td>\n",
       "    </tr>\n",
       "    <tr>\n",
       "      <th>3</th>\n",
       "      <td>2</td>\n",
       "    </tr>\n",
       "    <tr>\n",
       "      <th>4</th>\n",
       "      <td>3</td>\n",
       "    </tr>\n",
       "    <tr>\n",
       "      <th>...</th>\n",
       "      <td>...</td>\n",
       "    </tr>\n",
       "    <tr>\n",
       "      <th>2248</th>\n",
       "      <td>0</td>\n",
       "    </tr>\n",
       "    <tr>\n",
       "      <th>2249</th>\n",
       "      <td>2</td>\n",
       "    </tr>\n",
       "    <tr>\n",
       "      <th>2250</th>\n",
       "      <td>1</td>\n",
       "    </tr>\n",
       "    <tr>\n",
       "      <th>2251</th>\n",
       "      <td>3</td>\n",
       "    </tr>\n",
       "    <tr>\n",
       "      <th>2252</th>\n",
       "      <td>1</td>\n",
       "    </tr>\n",
       "  </tbody>\n",
       "</table>\n",
       "<p>2252 rows × 1 columns</p>\n",
       "</div>"
      ],
      "text/plain": [
       "      #_of_skills\n",
       "0               3\n",
       "1               3\n",
       "2               3\n",
       "3               2\n",
       "4               3\n",
       "...           ...\n",
       "2248            0\n",
       "2249            2\n",
       "2250            1\n",
       "2251            3\n",
       "2252            1\n",
       "\n",
       "[2252 rows x 1 columns]"
      ]
     },
     "execution_count": 65,
     "metadata": {},
     "output_type": "execute_result"
    }
   ],
   "source": [
    "essential_skills = [\"python\", 'tableau', 'sql', 'excel', 'r']\n",
    "df[\"#_of_skills\"] = df[essential_skills].sum(axis=1)\n",
    "df[[\"#_of_skills\"]]\n"
   ]
  },
  {
   "cell_type": "code",
   "execution_count": 66,
   "metadata": {},
   "outputs": [
    {
     "data": {
      "text/plain": [
       "Index(['JobTitle', 'JobDescription', 'Rating', 'CompanyName', 'Location',\n",
       "       'Industry', 'Sector', 'Revenue', 'EasyApply', 'LowerEndSalary',\n",
       "       'UpperEndSalary', 'AvgSalary', 'python', 'sql', 'nosql', 'excel', 'r',\n",
       "       'data visualization', 'machine learning', 'data cleaning', 'matlab',\n",
       "       'tableau', 'data warehousing', 'critical thinking', 'communication',\n",
       "       'problem solving', 'collaboration', '#_of_skills'],\n",
       "      dtype='object')"
      ]
     },
     "execution_count": 66,
     "metadata": {},
     "output_type": "execute_result"
    }
   ],
   "source": [
    "df.columns"
   ]
  },
  {
   "cell_type": "code",
   "execution_count": 67,
   "metadata": {},
   "outputs": [
    {
     "name": "stdout",
     "output_type": "stream",
     "text": [
      "int32\n",
      "int32\n",
      "int32\n"
     ]
    }
   ],
   "source": [
    "salary_cols = ['AvgSalary', 'LowerEndSalary', 'UpperEndSalary']\n",
    "for col in salary_cols:\n",
    "    df[col] = df[col].astype(int)\n",
    "    print(df[col].dtype)"
   ]
  },
  {
   "cell_type": "code",
   "execution_count": 68,
   "metadata": {},
   "outputs": [],
   "source": [
    "group_skills = df.groupby('#_of_skills')\n",
    "salary_and_skills = group_skills.mean()[['AvgSalary']]\n",
    "#salary_and_skills.plot.boxplot()"
   ]
  },
  {
   "cell_type": "code",
   "execution_count": 69,
   "metadata": {},
   "outputs": [
    {
     "data": {
      "image/png": "[encoded data removed]",
      "text/plain": [
       "<Figure size 432x288 with 1 Axes>"
      ]
     },
     "metadata": {
      "needs_background": "light"
     },
     "output_type": "display_data"
    }
   ],
   "source": [
    "avgsalaries_per_skills = group_skills['AvgSalary'].apply(list)\n",
    "salary_boxplot = plt.boxplot(avgsalaries_per_skills)"
   ]
  },
  {
   "cell_type": "markdown",
   "metadata": {},
   "source": [
    "This wasn't very informative having grouped on the AverageSalary column, lets try with the UpperEndSalary column and see if we discover a stronger correlation between these two variables."
   ]
  },
  {
   "cell_type": "code",
   "execution_count": 70,
   "metadata": {},
   "outputs": [
    {
     "data": {
      "image/png": "[encoded data removed]",
      "text/plain": [
       "<Figure size 432x288 with 1 Axes>"
      ]
     },
     "metadata": {
      "needs_background": "light"
     },
     "output_type": "display_data"
    }
   ],
   "source": [
    "uppersalaries_per_skills = group_skills['UpperEndSalary'].apply(list)\n",
    "salary_boxplot = plt.boxplot(uppersalaries_per_skills)"
   ]
  },
  {
   "cell_type": "markdown",
   "metadata": {},
   "source": [
    "Still, surprisingly, salary does not seems to reflect the amount of technical skills listed in the job description"
   ]
  },
  {
   "cell_type": "markdown",
   "metadata": {},
   "source": [
    "### Which Skill is Most Profitable to Learn?"
   ]
  },
  {
   "cell_type": "code",
   "execution_count": 71,
   "metadata": {},
   "outputs": [
    {
     "data": {
      "text/plain": [
       "<BarContainer object of 5 artists>"
      ]
     },
     "execution_count": 71,
     "metadata": {},
     "output_type": "execute_result"
    },
    {
     "data": {
      "image/png": "[encoded data removed]",
      "text/plain": [
       "<Figure size 720x576 with 1 Axes>"
      ]
     },
     "metadata": {
      "needs_background": "light"
     },
     "output_type": "display_data"
    }
   ],
   "source": [
    "essential_skills = [\"python\", 'tableau', 'sql', 'excel', 'r']\n",
    "skill_salary = [df[df[skill] == 1]['AvgSalary'].mean() for skill in essential_skills]\n",
    "df_skill_salary = pd.DataFrame({'Skill': essential_skills, \n",
    "                                'Average Salary': skill_salary})\n",
    "df_skill_salary.sort_values(by='Average Salary', ascending=False, inplace=True)\n",
    "\n",
    "plt.figure(figsize=(10, 8))\n",
    "plt.bar(df_skill_salary[\"Skill\"], df_skill_salary['Average Salary'])\n"
   ]
  },
  {
   "cell_type": "markdown",
   "metadata": {},
   "source": [
    "While the differences in salary are marginal, our salary data is not as accurate as we would like it to be, and more better data would likely reflect a similar trend but with greater salary disparities between the skills listed. It makes sense assuming that positions requiring python are also going to be more data science/machine learning oriented which are traditionally higher paying jobs than that of a traditional data analyst. Likewise, excel being at the bottom of the barrel aligns with our assumptions with data-entry-type positions offering less pay."
   ]
  },
  {
   "cell_type": "markdown",
   "metadata": {},
   "source": [
    "### Salary Differences by Company Name with Rating Scores (according to bins)"
   ]
  },
  {
   "cell_type": "markdown",
   "metadata": {},
   "source": [
    "### What is the Best Paying Location?"
   ]
  },
  {
   "cell_type": "code",
   "execution_count": 72,
   "metadata": {},
   "outputs": [
    {
     "data": {
      "text/plain": [
       "New York, NY         310\n",
       "Chicago, IL          130\n",
       "San Francisco, CA    119\n",
       "Austin, TX            81\n",
       "Los Angeles, CA       80\n",
       "                    ... \n",
       "Northlake, IL          1\n",
       "Norristown, PA         1\n",
       "Spring, TX             1\n",
       "Signal Hill, CA        1\n",
       "Cedar Park, TX         1\n",
       "Name: Location, Length: 253, dtype: Int64"
      ]
     },
     "execution_count": 72,
     "metadata": {},
     "output_type": "execute_result"
    }
   ],
   "source": [
    "df['Location'].value_counts()"
   ]
  },
  {
   "cell_type": "code",
   "execution_count": 73,
   "metadata": {},
   "outputs": [
    {
     "data": {
      "text/plain": [
       "2    2244\n",
       "3       8\n",
       "Name: Location, dtype: int64"
      ]
     },
     "execution_count": 73,
     "metadata": {},
     "output_type": "execute_result"
    }
   ],
   "source": [
    "df[\"Location\"].str.split(',').apply(len).value_counts()"
   ]
  },
  {
   "cell_type": "markdown",
   "metadata": {},
   "source": [
    "There are 8 instances in which the location column has not separated between city and state as intended. Let's remedy this."
   ]
  },
  {
   "cell_type": "code",
   "execution_count": 74,
   "metadata": {},
   "outputs": [
    {
     "data": {
      "text/html": [
       "<div>\n",
       "<style scoped>\n",
       "    .dataframe tbody tr th:only-of-type {\n",
       "        vertical-align: middle;\n",
       "    }\n",
       "\n",
       "    .dataframe tbody tr th {\n",
       "        vertical-align: top;\n",
       "    }\n",
       "\n",
       "    .dataframe thead th {\n",
       "        text-align: right;\n",
       "    }\n",
       "</style>\n",
       "<table border=\"1\" class=\"dataframe\">\n",
       "  <thead>\n",
       "    <tr style=\"text-align: right;\">\n",
       "      <th></th>\n",
       "      <th>Location</th>\n",
       "      <th>Length</th>\n",
       "    </tr>\n",
       "  </thead>\n",
       "  <tbody>\n",
       "    <tr>\n",
       "      <th>2168</th>\n",
       "      <td>[Greenwood Village,  Arapahoe,  CO]</td>\n",
       "      <td>3</td>\n",
       "    </tr>\n",
       "    <tr>\n",
       "      <th>2178</th>\n",
       "      <td>[Greenwood Village,  Arapahoe,  CO]</td>\n",
       "      <td>3</td>\n",
       "    </tr>\n",
       "    <tr>\n",
       "      <th>2186</th>\n",
       "      <td>[Greenwood Village,  Arapahoe,  CO]</td>\n",
       "      <td>3</td>\n",
       "    </tr>\n",
       "    <tr>\n",
       "      <th>2195</th>\n",
       "      <td>[Greenwood Village,  Arapahoe,  CO]</td>\n",
       "      <td>3</td>\n",
       "    </tr>\n",
       "    <tr>\n",
       "      <th>2220</th>\n",
       "      <td>[Greenwood Village,  Arapahoe,  CO]</td>\n",
       "      <td>3</td>\n",
       "    </tr>\n",
       "    <tr>\n",
       "      <th>2229</th>\n",
       "      <td>[Greenwood Village,  Arapahoe,  CO]</td>\n",
       "      <td>3</td>\n",
       "    </tr>\n",
       "    <tr>\n",
       "      <th>2236</th>\n",
       "      <td>[Greenwood Village,  Arapahoe,  CO]</td>\n",
       "      <td>3</td>\n",
       "    </tr>\n",
       "    <tr>\n",
       "      <th>2237</th>\n",
       "      <td>[Greenwood Village,  Arapahoe,  CO]</td>\n",
       "      <td>3</td>\n",
       "    </tr>\n",
       "  </tbody>\n",
       "</table>\n",
       "</div>"
      ],
      "text/plain": [
       "                                 Location  Length\n",
       "2168  [Greenwood Village,  Arapahoe,  CO]       3\n",
       "2178  [Greenwood Village,  Arapahoe,  CO]       3\n",
       "2186  [Greenwood Village,  Arapahoe,  CO]       3\n",
       "2195  [Greenwood Village,  Arapahoe,  CO]       3\n",
       "2220  [Greenwood Village,  Arapahoe,  CO]       3\n",
       "2229  [Greenwood Village,  Arapahoe,  CO]       3\n",
       "2236  [Greenwood Village,  Arapahoe,  CO]       3\n",
       "2237  [Greenwood Village,  Arapahoe,  CO]       3"
      ]
     },
     "execution_count": 74,
     "metadata": {},
     "output_type": "execute_result"
    }
   ],
   "source": [
    "location_df = df[\"Location\"].str.split(',').to_frame()\n",
    "location_df['Length'] = location_df[\"Location\"].apply(len)\n",
    "location_df[location_df['Length'] == 3]"
   ]
  },
  {
   "cell_type": "code",
   "execution_count": 75,
   "metadata": {},
   "outputs": [],
   "source": [
    "#Handling exception outlined above\n",
    "df.loc[df[\"Location\"].str.contains(\"Greenwood Village\"), \n",
    "       \"Location\"] = \"Greenwood Village Arapahoe, CO\""
   ]
  },
  {
   "cell_type": "code",
   "execution_count": 76,
   "metadata": {},
   "outputs": [
    {
     "data": {
      "text/html": [
       "<div>\n",
       "<style scoped>\n",
       "    .dataframe tbody tr th:only-of-type {\n",
       "        vertical-align: middle;\n",
       "    }\n",
       "\n",
       "    .dataframe tbody tr th {\n",
       "        vertical-align: top;\n",
       "    }\n",
       "\n",
       "    .dataframe thead th {\n",
       "        text-align: right;\n",
       "    }\n",
       "</style>\n",
       "<table border=\"1\" class=\"dataframe\">\n",
       "  <thead>\n",
       "    <tr style=\"text-align: right;\">\n",
       "      <th></th>\n",
       "      <th>Location</th>\n",
       "      <th>Length</th>\n",
       "    </tr>\n",
       "  </thead>\n",
       "  <tbody>\n",
       "    <tr>\n",
       "      <th>0</th>\n",
       "      <td>[New York,  NY]</td>\n",
       "      <td>2</td>\n",
       "    </tr>\n",
       "    <tr>\n",
       "      <th>1</th>\n",
       "      <td>[New York,  NY]</td>\n",
       "      <td>2</td>\n",
       "    </tr>\n",
       "    <tr>\n",
       "      <th>2</th>\n",
       "      <td>[New York,  NY]</td>\n",
       "      <td>2</td>\n",
       "    </tr>\n",
       "    <tr>\n",
       "      <th>3</th>\n",
       "      <td>[New York,  NY]</td>\n",
       "      <td>2</td>\n",
       "    </tr>\n",
       "    <tr>\n",
       "      <th>4</th>\n",
       "      <td>[New York,  NY]</td>\n",
       "      <td>2</td>\n",
       "    </tr>\n",
       "    <tr>\n",
       "      <th>...</th>\n",
       "      <td>...</td>\n",
       "      <td>...</td>\n",
       "    </tr>\n",
       "    <tr>\n",
       "      <th>2248</th>\n",
       "      <td>[Denver,  CO]</td>\n",
       "      <td>2</td>\n",
       "    </tr>\n",
       "    <tr>\n",
       "      <th>2249</th>\n",
       "      <td>[Centennial,  CO]</td>\n",
       "      <td>2</td>\n",
       "    </tr>\n",
       "    <tr>\n",
       "      <th>2250</th>\n",
       "      <td>[Denver,  CO]</td>\n",
       "      <td>2</td>\n",
       "    </tr>\n",
       "    <tr>\n",
       "      <th>2251</th>\n",
       "      <td>[Centennial,  CO]</td>\n",
       "      <td>2</td>\n",
       "    </tr>\n",
       "    <tr>\n",
       "      <th>2252</th>\n",
       "      <td>[Broomfield,  CO]</td>\n",
       "      <td>2</td>\n",
       "    </tr>\n",
       "  </tbody>\n",
       "</table>\n",
       "<p>2252 rows × 2 columns</p>\n",
       "</div>"
      ],
      "text/plain": [
       "               Location  Length\n",
       "0       [New York,  NY]       2\n",
       "1       [New York,  NY]       2\n",
       "2       [New York,  NY]       2\n",
       "3       [New York,  NY]       2\n",
       "4       [New York,  NY]       2\n",
       "...                 ...     ...\n",
       "2248      [Denver,  CO]       2\n",
       "2249  [Centennial,  CO]       2\n",
       "2250      [Denver,  CO]       2\n",
       "2251  [Centennial,  CO]       2\n",
       "2252  [Broomfield,  CO]       2\n",
       "\n",
       "[2252 rows x 2 columns]"
      ]
     },
     "execution_count": 76,
     "metadata": {},
     "output_type": "execute_result"
    }
   ],
   "source": [
    "location_df = df[\"Location\"].str.split(',').to_frame()\n",
    "location_df['Length'] = location_df[\"Location\"].apply(len)\n",
    "location_df"
   ]
  },
  {
   "cell_type": "code",
   "execution_count": 77,
   "metadata": {},
   "outputs": [
    {
     "data": {
      "text/html": [
       "<div>\n",
       "<style scoped>\n",
       "    .dataframe tbody tr th:only-of-type {\n",
       "        vertical-align: middle;\n",
       "    }\n",
       "\n",
       "    .dataframe tbody tr th {\n",
       "        vertical-align: top;\n",
       "    }\n",
       "\n",
       "    .dataframe thead th {\n",
       "        text-align: right;\n",
       "    }\n",
       "</style>\n",
       "<table border=\"1\" class=\"dataframe\">\n",
       "  <thead>\n",
       "    <tr style=\"text-align: right;\">\n",
       "      <th></th>\n",
       "      <th>Location</th>\n",
       "      <th>City</th>\n",
       "      <th>State</th>\n",
       "    </tr>\n",
       "  </thead>\n",
       "  <tbody>\n",
       "    <tr>\n",
       "      <th>0</th>\n",
       "      <td>New York, NY</td>\n",
       "      <td>New York</td>\n",
       "      <td>NY</td>\n",
       "    </tr>\n",
       "    <tr>\n",
       "      <th>1</th>\n",
       "      <td>New York, NY</td>\n",
       "      <td>New York</td>\n",
       "      <td>NY</td>\n",
       "    </tr>\n",
       "    <tr>\n",
       "      <th>2</th>\n",
       "      <td>New York, NY</td>\n",
       "      <td>New York</td>\n",
       "      <td>NY</td>\n",
       "    </tr>\n",
       "    <tr>\n",
       "      <th>3</th>\n",
       "      <td>New York, NY</td>\n",
       "      <td>New York</td>\n",
       "      <td>NY</td>\n",
       "    </tr>\n",
       "    <tr>\n",
       "      <th>4</th>\n",
       "      <td>New York, NY</td>\n",
       "      <td>New York</td>\n",
       "      <td>NY</td>\n",
       "    </tr>\n",
       "    <tr>\n",
       "      <th>...</th>\n",
       "      <td>...</td>\n",
       "      <td>...</td>\n",
       "      <td>...</td>\n",
       "    </tr>\n",
       "    <tr>\n",
       "      <th>2248</th>\n",
       "      <td>Denver, CO</td>\n",
       "      <td>Denver</td>\n",
       "      <td>CO</td>\n",
       "    </tr>\n",
       "    <tr>\n",
       "      <th>2249</th>\n",
       "      <td>Centennial, CO</td>\n",
       "      <td>Centennial</td>\n",
       "      <td>CO</td>\n",
       "    </tr>\n",
       "    <tr>\n",
       "      <th>2250</th>\n",
       "      <td>Denver, CO</td>\n",
       "      <td>Denver</td>\n",
       "      <td>CO</td>\n",
       "    </tr>\n",
       "    <tr>\n",
       "      <th>2251</th>\n",
       "      <td>Centennial, CO</td>\n",
       "      <td>Centennial</td>\n",
       "      <td>CO</td>\n",
       "    </tr>\n",
       "    <tr>\n",
       "      <th>2252</th>\n",
       "      <td>Broomfield, CO</td>\n",
       "      <td>Broomfield</td>\n",
       "      <td>CO</td>\n",
       "    </tr>\n",
       "  </tbody>\n",
       "</table>\n",
       "<p>2252 rows × 3 columns</p>\n",
       "</div>"
      ],
      "text/plain": [
       "            Location        City State\n",
       "0       New York, NY    New York    NY\n",
       "1       New York, NY    New York    NY\n",
       "2       New York, NY    New York    NY\n",
       "3       New York, NY    New York    NY\n",
       "4       New York, NY    New York    NY\n",
       "...              ...         ...   ...\n",
       "2248      Denver, CO      Denver    CO\n",
       "2249  Centennial, CO  Centennial    CO\n",
       "2250      Denver, CO      Denver    CO\n",
       "2251  Centennial, CO  Centennial    CO\n",
       "2252  Broomfield, CO  Broomfield    CO\n",
       "\n",
       "[2252 rows x 3 columns]"
      ]
     },
     "execution_count": 77,
     "metadata": {},
     "output_type": "execute_result"
    }
   ],
   "source": [
    "df[\"City\"] = df[\"Location\"].str.split(',').apply(lambda x: x[0])\n",
    "df[\"State\"] = df[\"Location\"].str.split(',').apply(lambda x: x[1].strip()) \n",
    "df[[\"Location\", \"City\", \"State\"]]"
   ]
  },
  {
   "cell_type": "markdown",
   "metadata": {},
   "source": [
    "### States With Best and Worst Paying Positions"
   ]
  },
  {
   "cell_type": "code",
   "execution_count": 78,
   "metadata": {},
   "outputs": [
    {
     "data": {
      "text/plain": [
       "<AxesSubplot:ylabel='State'>"
      ]
     },
     "execution_count": 78,
     "metadata": {},
     "output_type": "execute_result"
    },
    {
     "data": {
      "image/png": "[encoded data removed]",
      "text/plain": [
       "<Figure size 432x288 with 1 Axes>"
      ]
     },
     "metadata": {
      "needs_background": "light"
     },
     "output_type": "display_data"
    }
   ],
   "source": [
    "state_group = df.groupby('State')\n",
    "state_salary = state_group['AvgSalary'].mean().sort_values(ascending=True)\n",
    "best_paying = state_salary.tail(5)\n",
    "worst_paying = state_salary.head(5)\n",
    "state_salary.plot.barh()"
   ]
  },
  {
   "cell_type": "code",
   "execution_count": 79,
   "metadata": {},
   "outputs": [
    {
     "data": {
      "text/plain": [
       "<AxesSubplot:ylabel='State'>"
      ]
     },
     "execution_count": 79,
     "metadata": {},
     "output_type": "execute_result"
    },
    {
     "data": {
      "image/png": "[encoded data removed]",
      "text/plain": [
       "<Figure size 432x288 with 1 Axes>"
      ]
     },
     "metadata": {
      "needs_background": "light"
     },
     "output_type": "display_data"
    }
   ],
   "source": [
    "best_paying.plot.barh()"
   ]
  },
  {
   "cell_type": "code",
   "execution_count": 80,
   "metadata": {},
   "outputs": [
    {
     "data": {
      "text/plain": [
       "<AxesSubplot:ylabel='State'>"
      ]
     },
     "execution_count": 80,
     "metadata": {},
     "output_type": "execute_result"
    },
    {
     "data": {
      "image/png": "[encoded data removed]",
      "text/plain": [
       "<Figure size 432x288 with 1 Axes>"
      ]
     },
     "metadata": {
      "needs_background": "light"
     },
     "output_type": "display_data"
    }
   ],
   "source": [
    "worst_paying.plot.barh()"
   ]
  },
  {
   "cell_type": "markdown",
   "metadata": {},
   "source": [
    "Good thing I live in California!"
   ]
  },
  {
   "cell_type": "markdown",
   "metadata": {},
   "source": [
    "### Cities (in California) With Best Paying Positions"
   ]
  },
  {
   "cell_type": "code",
   "execution_count": 81,
   "metadata": {},
   "outputs": [
    {
     "data": {
      "text/plain": [
       "<AxesSubplot:ylabel='City'>"
      ]
     },
     "execution_count": 81,
     "metadata": {},
     "output_type": "execute_result"
    },
    {
     "data": {
      "image/png": "[encoded data removed]",
      "text/plain": [
       "<Figure size 432x288 with 1 Axes>"
      ]
     },
     "metadata": {
      "needs_background": "light"
     },
     "output_type": "display_data"
    }
   ],
   "source": [
    "city_group = df[df[\"State\"] == 'CA'].groupby('City')\n",
    "city_salary = city_group['AvgSalary'].mean().sort_values(ascending=True)\n",
    "city_salary.plot.barh()"
   ]
  },
  {
   "cell_type": "markdown",
   "metadata": {},
   "source": [
    "## What are the Best Companies to Apply to Within California?"
   ]
  },
  {
   "cell_type": "code",
   "execution_count": 82,
   "metadata": {},
   "outputs": [
    {
     "data": {
      "text/plain": [
       "Staffigo Technical Services, LLC    12\n",
       "Apple                               10\n",
       "Diverse Lynx                         7\n",
       "Lorven Technologies Inc              7\n",
       "Molina Healthcare                    6\n",
       "                                    ..\n",
       "Hulu                                 1\n",
       "Axelon Services Corporation          1\n",
       "Tech Firefly                         1\n",
       "Swinerton Builders                   1\n",
       "Netpace, Inc                         1\n",
       "Name: CompanyName, Length: 474, dtype: Int64"
      ]
     },
     "execution_count": 82,
     "metadata": {},
     "output_type": "execute_result"
    }
   ],
   "source": [
    "in_cali = df.loc[df[\"State\"] == 'CA']\n",
    "in_cali = in_cali.replace(',','', regex=True)\n",
    "in_cali['CompanyName'].value_counts()"
   ]
  },
  {
   "cell_type": "code",
   "execution_count": 83,
   "metadata": {},
   "outputs": [
    {
     "data": {
      "text/plain": [
       "454     Ref ID: 00310-0011482030Classification: Sales ...\n",
       "455     About the Employer\n",
       "\n",
       "\n",
       "Nestled close to the maje...\n",
       "456     The purpose of the Data Analyst in the Case In...\n",
       "513     The Product Strategy Group works to ensure the...\n",
       "514     About the Lead Data Analyst at Headspace:\n",
       "\n",
       "Hea...\n",
       "                              ...                        \n",
       "2068    Scientific Business Analyst (PreClinical Data)...\n",
       "2069    Our client is a global leader in software serv...\n",
       "2070    Job Description\n",
       "Below are the Job Details\n",
       "Titl...\n",
       "2071    At Franklin Templeton, we are dedicated to del...\n",
       "2072    Job Description:\n",
       "\n",
       "o Demonstrated Experience in...\n",
       "Name: JobDescription, Length: 626, dtype: string"
      ]
     },
     "execution_count": 83,
     "metadata": {},
     "output_type": "execute_result"
    }
   ],
   "source": [
    "in_cali['JobDescription']"
   ]
  },
  {
   "cell_type": "code",
   "execution_count": 84,
   "metadata": {},
   "outputs": [],
   "source": [
    "### Density of Jobs Across the World, US, and California (do in Tableau)"
   ]
  },
  {
   "cell_type": "code",
   "execution_count": 85,
   "metadata": {},
   "outputs": [],
   "source": [
    "in_cali.to_csv(r'C:\\Users\\Jacob\\Documents\\Resume Projects\\DataAnalystPositions\\california_easy.csv', index=False)"
   ]
  },
  {
   "cell_type": "code",
   "execution_count": 86,
   "metadata": {},
   "outputs": [
    {
     "data": {
      "text/plain": [
       "(626, 30)"
      ]
     },
     "execution_count": 86,
     "metadata": {},
     "output_type": "execute_result"
    }
   ],
   "source": [
    "in_cali.shape"
   ]
  },
  {
   "cell_type": "code",
   "execution_count": 87,
   "metadata": {},
   "outputs": [
    {
     "data": {
      "text/plain": [
       "JobTitle                0\n",
       "JobDescription          0\n",
       "Rating                 79\n",
       "CompanyName             0\n",
       "Location                0\n",
       "Industry              107\n",
       "Sector                107\n",
       "Revenue                44\n",
       "EasyApply               0\n",
       "LowerEndSalary          0\n",
       "UpperEndSalary          0\n",
       "AvgSalary               0\n",
       "python                  0\n",
       "sql                     0\n",
       "nosql                   0\n",
       "excel                   0\n",
       "r                       0\n",
       "data visualization      0\n",
       "machine learning        0\n",
       "data cleaning           0\n",
       "matlab                  0\n",
       "tableau                 0\n",
       "data warehousing        0\n",
       "critical thinking       0\n",
       "communication           0\n",
       "problem solving         0\n",
       "collaboration           0\n",
       "#_of_skills             0\n",
       "City                    0\n",
       "State                   0\n",
       "dtype: int64"
      ]
     },
     "execution_count": 87,
     "metadata": {},
     "output_type": "execute_result"
    }
   ],
   "source": [
    "in_cali.isna().sum()"
   ]
  },
  {
   "cell_type": "markdown",
   "metadata": {},
   "source": [
    "Let's see their rating distribution"
   ]
  },
  {
   "cell_type": "code",
   "execution_count": 88,
   "metadata": {},
   "outputs": [
    {
     "data": {
      "text/plain": [
       "<matplotlib.lines.Line2D at 0x196cf694070>"
      ]
     },
     "execution_count": 88,
     "metadata": {},
     "output_type": "execute_result"
    },
    {
     "data": {
      "image/png": "[encoded data removed]",
      "text/plain": [
       "<Figure size 576x432 with 1 Axes>"
      ]
     },
     "metadata": {
      "needs_background": "light"
     },
     "output_type": "display_data"
    }
   ],
   "source": [
    "plt.figure(figsize=(8, 6))\n",
    "rating_dist = plt.hist(in_cali['Rating'], bins=15)\n",
    "plt.title(\"Rating Frequency\")\n",
    "plt.xlabel(\"Rating\")\n",
    "plt.ylabel(\"Frequency\")\n",
    "plt.axvline(in_cali['Rating'].mean(), color='r', linewidth=1)"
   ]
  },
  {
   "cell_type": "markdown",
   "metadata": {},
   "source": [
    "I only want to consider companies with a rating of 3.5 or greater."
   ]
  },
  {
   "cell_type": "code",
   "execution_count": 89,
   "metadata": {},
   "outputs": [],
   "source": [
    "in_cali = in_cali.loc[in_cali[\"Rating\"] >= 3.5]"
   ]
  },
  {
   "cell_type": "code",
   "execution_count": 90,
   "metadata": {},
   "outputs": [
    {
     "data": {
      "text/plain": [
       "<matplotlib.collections.PathCollection at 0x196cf713610>"
      ]
     },
     "execution_count": 90,
     "metadata": {},
     "output_type": "execute_result"
    },
    {
     "data": {
      "image/png": "[encoded data removed]",
      "text/plain": [
       "<Figure size 432x288 with 1 Axes>"
      ]
     },
     "metadata": {
      "needs_background": "light"
     },
     "output_type": "display_data"
    }
   ],
   "source": [
    "plt.scatter(in_cali[\"Rating\"], in_cali[\"AvgSalary\"])"
   ]
  },
  {
   "cell_type": "code",
   "execution_count": 91,
   "metadata": {},
   "outputs": [
    {
     "ename": "NameError",
     "evalue": "name 'avg' is not defined",
     "output_type": "error",
     "traceback": [
      "\u001b[1;31m---------------------------------------------------------------------------\u001b[0m",
      "\u001b[1;31mNameError\u001b[0m                                 Traceback (most recent call last)",
      "\u001b[1;32m<ipython-input-91-49055add06de>\u001b[0m in \u001b[0;36m<module>\u001b[1;34m\u001b[0m\n\u001b[1;32m----> 1\u001b[1;33m \u001b[0mlist\u001b[0m\u001b[1;33m(\u001b[0m\u001b[0mavg\u001b[0m\u001b[1;33m.\u001b[0m\u001b[0mkeys\u001b[0m\u001b[1;33m(\u001b[0m\u001b[1;33m)\u001b[0m\u001b[1;33m)\u001b[0m\u001b[1;33m\u001b[0m\u001b[1;33m\u001b[0m\u001b[0m\n\u001b[0m",
      "\u001b[1;31mNameError\u001b[0m: name 'avg' is not defined"
     ]
    }
   ],
   "source": [
    "list(avg.keys())"
   ]
  },
  {
   "cell_type": "code",
   "execution_count": null,
   "metadata": {},
   "outputs": [],
   "source": [
    "avg_df"
   ]
  },
  {
   "cell_type": "code",
   "execution_count": null,
   "metadata": {},
   "outputs": [],
   "source": [
    "list(avg_df.keys())"
   ]
  },
  {
   "cell_type": "code",
   "execution_count": null,
   "metadata": {},
   "outputs": [],
   "source": [
    "list(avg_df.values())[2]"
   ]
  },
  {
   "cell_type": "code",
   "execution_count": null,
   "metadata": {},
   "outputs": [],
   "source": [
    "plt.xticks()\n",
    "rating_bins = []\n",
    "bin_avg_salaries = []\n",
    "bin_upper_salaries = []\n",
    "bin_lower_salaries = []\n",
    "\n",
    "def rating_bin_function(salary=\"AvgSalary\"):\n",
    "    rating_bins = {}\n",
    "    \n",
    "    for i in np.arange(3.5, 5, 0.5):\n",
    "        bin_min = i\n",
    "        bin_max = i + 0.4\n",
    "\n",
    "        if i == 4.5:\n",
    "            bin_max = 5\n",
    "\n",
    "        current_bin = str(bin_min) + '-' + str(bin_max)\n",
    "        subset = in_cali.loc[(in_cali[\"Rating\"] >= bin_min) &  \n",
    "                             (in_cali[\"Rating\"] <= bin_max)]\n",
    "        bin_salaries = subset[salary]\n",
    "        rating_bins[current_bin] = bin_salaries\n",
    "        \n",
    "    return rating_bins\n",
    "\n",
    "    \n",
    "avg_df = pd.DataFrame(rating_bin_function())\n",
    "sns.boxplot(data=avg_df)"
   ]
  },
  {
   "cell_type": "code",
   "execution_count": null,
   "metadata": {},
   "outputs": [],
   "source": [
    "lower_df = pd.DataFrame(rating_bin_function(\"LowerEndSalary\"))\n",
    "sns.boxplot(data=lower_df)"
   ]
  },
  {
   "cell_type": "code",
   "execution_count": null,
   "metadata": {},
   "outputs": [],
   "source": [
    "upper_df = pd.DataFrame(rating_bin_function(\"UpperEndSalary\"))\n",
    "sns.boxplot(data=upper_df)"
   ]
  },
  {
   "cell_type": "code",
   "execution_count": null,
   "metadata": {},
   "outputs": [],
   "source": []
  }
 ],
 "metadata": {
  "kernelspec": {
   "display_name": "Python 3",
   "language": "python",
   "name": "python3"
  },
  "language_info": {
   "codemirror_mode": {
    "name": "ipython",
    "version": 3
   },
   "file_extension": ".py",
   "mimetype": "text/x-python",
   "name": "python",
   "nbconvert_exporter": "python",
   "pygments_lexer": "ipython3",
   "version": "3.8.5"
  }
 },
 "nbformat": 4,
 "nbformat_minor": 4
}
